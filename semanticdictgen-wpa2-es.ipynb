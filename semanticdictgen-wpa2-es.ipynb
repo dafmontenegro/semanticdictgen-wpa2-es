{
 "cells": [
  {
   "cell_type": "code",
   "execution_count": 1,
   "metadata": {},
   "outputs": [],
   "source": [
    "import re\n",
    "import math\n",
    "import pandas\n",
    "import functools\n",
    "import itertools\n",
    "import unidecode\n",
    "import collections \n",
    "import matplotlib.pyplot"
   ]
  },
  {
   "cell_type": "code",
   "execution_count": 2,
   "metadata": {},
   "outputs": [
    {
     "data": {
      "text/html": [
       "<div>\n",
       "<style scoped>\n",
       "    .dataframe tbody tr th:only-of-type {\n",
       "        vertical-align: middle;\n",
       "    }\n",
       "\n",
       "    .dataframe tbody tr th {\n",
       "        vertical-align: top;\n",
       "    }\n",
       "\n",
       "    .dataframe thead th {\n",
       "        text-align: right;\n",
       "    }\n",
       "</style>\n",
       "<table border=\"1\" class=\"dataframe\">\n",
       "  <thead>\n",
       "    <tr style=\"text-align: right;\">\n",
       "      <th></th>\n",
       "      <th>element</th>\n",
       "      <th>frequency</th>\n",
       "    </tr>\n",
       "  </thead>\n",
       "  <tbody>\n",
       "    <tr>\n",
       "      <th>0</th>\n",
       "      <td>de</td>\n",
       "      <td>61616.115</td>\n",
       "    </tr>\n",
       "    <tr>\n",
       "      <th>1</th>\n",
       "      <td>la</td>\n",
       "      <td>36117.230</td>\n",
       "    </tr>\n",
       "    <tr>\n",
       "      <th>2</th>\n",
       "      <td>que</td>\n",
       "      <td>31536.926</td>\n",
       "    </tr>\n",
       "    <tr>\n",
       "      <th>3</th>\n",
       "      <td>y</td>\n",
       "      <td>26460.987</td>\n",
       "    </tr>\n",
       "    <tr>\n",
       "      <th>4</th>\n",
       "      <td>en</td>\n",
       "      <td>25097.913</td>\n",
       "    </tr>\n",
       "    <tr>\n",
       "      <th>...</th>\n",
       "      <td>...</td>\n",
       "      <td>...</td>\n",
       "    </tr>\n",
       "    <tr>\n",
       "      <th>1862847</th>\n",
       "      <td>€39/ud</td>\n",
       "      <td>0.003</td>\n",
       "    </tr>\n",
       "    <tr>\n",
       "      <th>1862848</th>\n",
       "      <td>€89/ud</td>\n",
       "      <td>0.003</td>\n",
       "    </tr>\n",
       "    <tr>\n",
       "      <th>1862849</th>\n",
       "      <td>●</td>\n",
       "      <td>0.003</td>\n",
       "    </tr>\n",
       "    <tr>\n",
       "      <th>1862850</th>\n",
       "      <td>1</td>\n",
       "      <td>0.000</td>\n",
       "    </tr>\n",
       "    <tr>\n",
       "      <th>1862851</th>\n",
       "      <td>2</td>\n",
       "      <td>0.000</td>\n",
       "    </tr>\n",
       "  </tbody>\n",
       "</table>\n",
       "<p>3333794 rows × 2 columns</p>\n",
       "</div>"
      ],
      "text/plain": [
       "        element  frequency\n",
       "0            de  61616.115\n",
       "1            la  36117.230\n",
       "2           que  31536.926\n",
       "3             y  26460.987\n",
       "4            en  25097.913\n",
       "...         ...        ...\n",
       "1862847  €39/ud      0.003\n",
       "1862848  €89/ud      0.003\n",
       "1862849       ●      0.003\n",
       "1862850       1      0.000\n",
       "1862851       2      0.000\n",
       "\n",
       "[3333794 rows x 2 columns]"
      ]
     },
     "execution_count": 2,
     "metadata": {},
     "output_type": "execute_result"
    }
   ],
   "source": [
    "spelling_forms = pandas.read_csv(\"frecuencia_formas_ortograficas_1_0_junio_2023.txt\", sep=\"\\t\", usecols=[\"element\", \"frequency\"], keep_default_na=False)\n",
    "mottos = pandas.read_csv(\"frecuencia_lemas_corpes_1_0_junio_2023.txt\", sep=\"\\t\", usecols=[\"element\", \"frequency\"], keep_default_na=False)\n",
    "corpes_sf_m = pandas.concat([spelling_forms, mottos])\n",
    "corpes_sf_m"
   ]
  },
  {
   "cell_type": "code",
   "execution_count": 3,
   "metadata": {},
   "outputs": [
    {
     "data": {
      "text/plain": [
       "{'Gabriel Garcia Marquez', 'GabrielGarciaMarquez'}"
      ]
     },
     "execution_count": 3,
     "metadata": {},
     "output_type": "execute_result"
    }
   ],
   "source": [
    "def transliterate(string):\n",
    "    if 0 < len(string) < 64:\n",
    "        string = re.sub(r\"[^\\x20-\\x7E]\", \"\", unidecode.unidecode(string.title()))\n",
    "        return {string, string.replace(chr(32), \"\")}\n",
    "    return {}\n",
    "\n",
    "transliterate(\"gabriel garcía márquez\")"
   ]
  },
  {
   "cell_type": "code",
   "execution_count": 4,
   "metadata": {},
   "outputs": [
    {
     "data": {
      "text/html": [
       "<div>\n",
       "<style scoped>\n",
       "    .dataframe tbody tr th:only-of-type {\n",
       "        vertical-align: middle;\n",
       "    }\n",
       "\n",
       "    .dataframe tbody tr th {\n",
       "        vertical-align: top;\n",
       "    }\n",
       "\n",
       "    .dataframe thead th {\n",
       "        text-align: right;\n",
       "    }\n",
       "</style>\n",
       "<table border=\"1\" class=\"dataframe\">\n",
       "  <thead>\n",
       "    <tr style=\"text-align: right;\">\n",
       "      <th></th>\n",
       "      <th>transliterated</th>\n",
       "      <th>frequency</th>\n",
       "    </tr>\n",
       "  </thead>\n",
       "  <tbody>\n",
       "    <tr>\n",
       "      <th>0</th>\n",
       "      <td>De</td>\n",
       "      <td>61616.115</td>\n",
       "    </tr>\n",
       "    <tr>\n",
       "      <th>1</th>\n",
       "      <td>La</td>\n",
       "      <td>36117.230</td>\n",
       "    </tr>\n",
       "    <tr>\n",
       "      <th>2</th>\n",
       "      <td>Que</td>\n",
       "      <td>31536.926</td>\n",
       "    </tr>\n",
       "    <tr>\n",
       "      <th>3</th>\n",
       "      <td>Y</td>\n",
       "      <td>26460.987</td>\n",
       "    </tr>\n",
       "    <tr>\n",
       "      <th>4</th>\n",
       "      <td>En</td>\n",
       "      <td>25097.913</td>\n",
       "    </tr>\n",
       "    <tr>\n",
       "      <th>...</th>\n",
       "      <td>...</td>\n",
       "      <td>...</td>\n",
       "    </tr>\n",
       "    <tr>\n",
       "      <th>4130734</th>\n",
       "      <td>EUR39/Ud</td>\n",
       "      <td>0.003</td>\n",
       "    </tr>\n",
       "    <tr>\n",
       "      <th>4130735</th>\n",
       "      <td>EUR89/Ud</td>\n",
       "      <td>0.003</td>\n",
       "    </tr>\n",
       "    <tr>\n",
       "      <th>4130736</th>\n",
       "      <td>*</td>\n",
       "      <td>0.003</td>\n",
       "    </tr>\n",
       "    <tr>\n",
       "      <th>4130737</th>\n",
       "      <td>1</td>\n",
       "      <td>0.000</td>\n",
       "    </tr>\n",
       "    <tr>\n",
       "      <th>4130738</th>\n",
       "      <td>2</td>\n",
       "      <td>0.000</td>\n",
       "    </tr>\n",
       "  </tbody>\n",
       "</table>\n",
       "<p>4130739 rows × 2 columns</p>\n",
       "</div>"
      ],
      "text/plain": [
       "        transliterated  frequency\n",
       "0                   De  61616.115\n",
       "1                   La  36117.230\n",
       "2                  Que  31536.926\n",
       "3                    Y  26460.987\n",
       "4                   En  25097.913\n",
       "...                ...        ...\n",
       "4130734       EUR39/Ud      0.003\n",
       "4130735       EUR89/Ud      0.003\n",
       "4130736              *      0.003\n",
       "4130737              1      0.000\n",
       "4130738              2      0.000\n",
       "\n",
       "[4130739 rows x 2 columns]"
      ]
     },
     "execution_count": 4,
     "metadata": {},
     "output_type": "execute_result"
    }
   ],
   "source": [
    "transliterated_data = []\n",
    "for row in corpes_sf_m.itertuples(index=False):\n",
    "    transliterations = transliterate(row.element)\n",
    "    for transliteration in transliterations:\n",
    "        if transliteration:\n",
    "            transliterated_data.append([transliteration, row.frequency])\n",
    "corpes_sf_m = pandas.DataFrame(transliterated_data, columns=[\"transliterated\", \"frequency\"])\n",
    "corpes_sf_m "
   ]
  },
  {
   "cell_type": "code",
   "execution_count": 5,
   "metadata": {},
   "outputs": [
    {
     "data": {
      "text/plain": [
       "transliterated\n",
       "El                  146633.100\n",
       "De                  123020.438\n",
       "Que                  65214.020\n",
       ",                    63596.264\n",
       "Y                    56333.857\n",
       "                       ...    \n",
       "Heerenveen-Nac           0.003\n",
       "Heerenveen-La            0.003\n",
       "Heerdt                   0.003\n",
       "HeerPhilipsLucas         0.003\n",
       "~Payaso                  0.003\n",
       "Name: frequency, Length: 2899416, dtype: float64"
      ]
     },
     "execution_count": 5,
     "metadata": {},
     "output_type": "execute_result"
    }
   ],
   "source": [
    "transliterations = corpes_sf_m.groupby(\"transliterated\")[\"frequency\"].sum().sort_values(ascending=False)\n",
    "transliterations"
   ]
  },
  {
   "cell_type": "code",
   "execution_count": 6,
   "metadata": {},
   "outputs": [
    {
     "data": {
      "text/plain": [
       "(11.962823203017436, 5.161746035611102)"
      ]
     },
     "execution_count": 6,
     "metadata": {},
     "output_type": "execute_result"
    }
   ],
   "source": [
    "transliteration_length = pandas.Series(transliterations.index.str.len())\n",
    "mean_length = transliteration_length.mean()\n",
    "std_length = transliteration_length.std()\n",
    "mean_length, std_length"
   ]
  },
  {
   "cell_type": "code",
   "execution_count": 7,
   "metadata": {},
   "outputs": [
    {
     "data": {
      "image/png": "[encoded data removed]",
      "text/plain": [
       "<Figure size 640x480 with 1 Axes>"
      ]
     },
     "metadata": {},
     "output_type": "display_data"
    }
   ],
   "source": [
    "histogram = transliteration_length.value_counts().sort_index()\n",
    "matplotlib.pyplot.bar(histogram.index, histogram, label=\"histogram\")\n",
    "matplotlib.pyplot.axvline(x=mean_length-(std_length*2), color=\"red\", linestyle=\"--\", linewidth=0.5)\n",
    "matplotlib.pyplot.axvline(x=mean_length-std_length, color=\"red\", linestyle=\"--\", linewidth=1)\n",
    "matplotlib.pyplot.axvline(x=mean_length, color=\"red\", linestyle=\"-\", label=\"mean\", linewidth=2)\n",
    "matplotlib.pyplot.axvline(x=mean_length+std_length, color=\"red\", linestyle=\"--\", label=\"mean +- std\",linewidth=1)\n",
    "matplotlib.pyplot.axvline(x=mean_length+(std_length*2), color=\"red\", linestyle=\"--\", label=\"mean +- 2std\",linewidth=0.5)\n",
    "matplotlib.pyplot.title(\"Histogram of length frequencies\")\n",
    "matplotlib.pyplot.ylabel(\"Frequency\")\n",
    "matplotlib.pyplot.xlabel(\"Length\")\n",
    "matplotlib.pyplot.legend()\n",
    "matplotlib.pyplot.show()"
   ]
  },
  {
   "cell_type": "code",
   "execution_count": 8,
   "metadata": {},
   "outputs": [
    {
     "data": {
      "text/plain": [
       "(1, 22)"
      ]
     },
     "execution_count": 8,
     "metadata": {},
     "output_type": "execute_result"
    }
   ],
   "source": [
    "min_length = 1\n",
    "max_length = round((mean_length - min_length) * 2)\n",
    "(min_length, max_length)"
   ]
  },
  {
   "cell_type": "code",
   "execution_count": 9,
   "metadata": {},
   "outputs": [
    {
     "data": {
      "text/plain": [
       "transliterated\n",
       "El                  146633.100\n",
       "De                  123020.438\n",
       "Que                  65214.020\n",
       ",                    63596.264\n",
       "Y                    56333.857\n",
       "                       ...    \n",
       "Heerenveen-Nac           0.003\n",
       "Heerenveen-La            0.003\n",
       "Heerdt                   0.003\n",
       "HeerPhilipsLucas         0.003\n",
       "~Payaso                  0.003\n",
       "Name: frequency, Length: 2751822, dtype: float64"
      ]
     },
     "execution_count": 9,
     "metadata": {},
     "output_type": "execute_result"
    }
   ],
   "source": [
    "transliterations = transliterations[transliterations.index.str.len() < max_length]\n",
    "transliterations"
   ]
  },
  {
   "cell_type": "code",
   "execution_count": 10,
   "metadata": {},
   "outputs": [
    {
     "data": {
      "text/plain": [
       "Index([ 2,  2,  3,  1,  1,  2,  1,  1,  2,  2,\n",
       "       ...\n",
       "       11,  5,  6,  5,  7, 14, 13,  6, 16,  7],\n",
       "      dtype='int64', name='transliterated', length=2751822)"
      ]
     },
     "execution_count": 10,
     "metadata": {},
     "output_type": "execute_result"
    }
   ],
   "source": [
    "transliteration_length = transliterations.index.str.len()\n",
    "transliteration_length"
   ]
  },
  {
   "cell_type": "code",
   "execution_count": 11,
   "metadata": {},
   "outputs": [
    {
     "data": {
      "text/plain": [
       "transliterated\n",
       "1         68\n",
       "2       1442\n",
       "3      18725\n",
       "4      58764\n",
       "5     127953\n",
       "6     160082\n",
       "7     190918\n",
       "8     201688\n",
       "9     233121\n",
       "10    242349\n",
       "11    252588\n",
       "12    250967\n",
       "13    233754\n",
       "14    198509\n",
       "15    156397\n",
       "16    118138\n",
       "17     89566\n",
       "18     70396\n",
       "19     57781\n",
       "20     48317\n",
       "21     40299\n",
       "Name: count, dtype: int64"
      ]
     },
     "execution_count": 11,
     "metadata": {},
     "output_type": "execute_result"
    }
   ],
   "source": [
    "transliteration_length_counts = transliteration_length.value_counts().sort_index()\n",
    "transliteration_length_counts"
   ]
  },
  {
   "cell_type": "code",
   "execution_count": 12,
   "metadata": {},
   "outputs": [
    {
     "data": {
      "text/plain": [
       "transliterated\n",
       "1     0.000025\n",
       "2     0.000524\n",
       "3     0.006805\n",
       "4     0.021355\n",
       "5     0.046498\n",
       "6     0.058173\n",
       "7     0.069379\n",
       "8     0.073293\n",
       "9     0.084715\n",
       "10    0.088069\n",
       "11    0.091789\n",
       "12    0.091200\n",
       "13    0.084945\n",
       "14    0.072137\n",
       "15    0.056834\n",
       "16    0.042931\n",
       "17    0.032548\n",
       "18    0.025582\n",
       "19    0.020997\n",
       "20    0.017558\n",
       "21    0.014644\n",
       "Name: count, dtype: float64"
      ]
     },
     "execution_count": 12,
     "metadata": {},
     "output_type": "execute_result"
    }
   ],
   "source": [
    "length_frequency_distribution = (transliteration_length_counts / transliteration_length_counts.sum()).sort_index()\n",
    "length_frequency_distribution"
   ]
  },
  {
   "cell_type": "code",
   "execution_count": 13,
   "metadata": {},
   "outputs": [
    {
     "data": {
      "text/plain": [
       "transliterated\n",
       "1     0.254489\n",
       "2     0.543451\n",
       "3     0.263844\n",
       "4     0.165756\n",
       "5     0.209299\n",
       "6     0.169811\n",
       "7     0.162835\n",
       "8     0.131871\n",
       "9     0.094634\n",
       "10    0.065445\n",
       "11    0.042752\n",
       "12    0.024095\n",
       "13    0.015710\n",
       "14    0.009617\n",
       "15    0.005174\n",
       "16    0.002195\n",
       "17    0.001177\n",
       "18    0.000785\n",
       "19    0.000486\n",
       "20    0.000376\n",
       "21    0.000247\n",
       "Name: frequency, dtype: float64"
      ]
     },
     "execution_count": 13,
     "metadata": {},
     "output_type": "execute_result"
    }
   ],
   "source": [
    "length_frequencies_sum = transliterations.groupby(transliteration_length).sum().sort_index() / 1000000\n",
    "length_frequencies_sum"
   ]
  },
  {
   "cell_type": "code",
   "execution_count": 14,
   "metadata": {},
   "outputs": [
    {
     "data": {
      "image/png": "[encoded data removed]",
      "text/plain": [
       "<Figure size 640x480 with 1 Axes>"
      ]
     },
     "metadata": {},
     "output_type": "display_data"
    }
   ],
   "source": [
    "weighted_frequency_sum = length_frequency_distribution * length_frequencies_sum\n",
    "matplotlib.pyplot.bar(weighted_frequency_sum.index, weighted_frequency_sum, label=\"histogram\")\n",
    "matplotlib.pyplot.title(\"Histogram of Weighted Length Frequencies\")\n",
    "matplotlib.pyplot.ylabel(\"Weighted Frequency\")\n",
    "matplotlib.pyplot.xlabel(\"Length\")\n",
    "matplotlib.pyplot.show()"
   ]
  },
  {
   "cell_type": "code",
   "execution_count": 15,
   "metadata": {},
   "outputs": [
    {
     "data": {
      "text/plain": [
       "36"
      ]
     },
     "execution_count": 15,
     "metadata": {},
     "output_type": "execute_result"
    }
   ],
   "source": [
    "levels = 3\n",
    "max_permutation_sum = math.ceil(mean_length) * levels\n",
    "max_permutation_sum"
   ]
  },
  {
   "cell_type": "code",
   "execution_count": 16,
   "metadata": {},
   "outputs": [
    {
     "data": {
      "text/plain": [
       "8         0.009665\n",
       "9         0.008017\n",
       "10        0.005764\n",
       "7 7       0.005649\n",
       "5 7       0.005323\n",
       "            ...   \n",
       "21 1      0.000002\n",
       "1 21      0.000002\n",
       "21 1 1    0.000001\n",
       "1 1 21    0.000001\n",
       "1 21 1    0.000001\n",
       "Length: 6153, dtype: float64"
      ]
     },
     "execution_count": 16,
     "metadata": {},
     "output_type": "execute_result"
    }
   ],
   "source": [
    "permutations_strs = []\n",
    "permutation_frequencies = []\n",
    "\n",
    "for level in range(1, levels+1):\n",
    "    permutations = itertools.product(range(min_length, max_length), repeat=level)\n",
    "    for permutation in permutations:\n",
    "        permutation_sum = sum(permutation)\n",
    "        if 8 <= permutation_sum <= max_permutation_sum:\n",
    "            permutation_frequencies.append(sum(weighted_frequency_sum[num]*num/permutation_sum for num in permutation) * 1/len(permutation))\n",
    "            permutations_strs.append(\" \".join(str(num) for num in permutation))\n",
    "weighted_permutations = pandas.Series(permutation_frequencies, index=permutations_strs).sort_values(ascending=False)\n",
    "weighted_permutations"
   ]
  },
  {
   "cell_type": "code",
   "execution_count": 17,
   "metadata": {},
   "outputs": [
    {
     "data": {
      "text/plain": [
       "[0.001,\n",
       " 0.002,\n",
       " 0.003,\n",
       " 0.004,\n",
       " 0.005,\n",
       " 0.006,\n",
       " 0.007,\n",
       " 0.008,\n",
       " 0.009,\n",
       " 0.01,\n",
       " 0.02,\n",
       " 0.03,\n",
       " 0.04,\n",
       " 0.05,\n",
       " 0.06,\n",
       " 0.07,\n",
       " 0.08,\n",
       " 0.09,\n",
       " 0.1,\n",
       " 0.2,\n",
       " 0.3,\n",
       " 0.4,\n",
       " 0.5,\n",
       " 0.6,\n",
       " 0.7,\n",
       " 0.8,\n",
       " 0.9,\n",
       " 1.0]"
      ]
     },
     "execution_count": 17,
     "metadata": {},
     "output_type": "execute_result"
    }
   ],
   "source": [
    "ratios = [1.0] + [n / 10**i for n in range(1, 10) for i in range(1, 4)]\n",
    "ratios = sorted(ratios)\n",
    "ratios"
   ]
  },
  {
   "cell_type": "code",
   "execution_count": 18,
   "metadata": {},
   "outputs": [],
   "source": [
    "def depth(ratio):\n",
    "    lower_bound = transliterations.quantile(1.0 - ratio)\n",
    "    transliterations_ratio = transliterations[transliterations >= lower_bound].index\n",
    "    return transliterations_ratio.to_series().groupby(transliterations_ratio.str.len()).apply(list).to_dict()\n",
    "\n",
    "depth_ratios = {depth_ratio: depth(depth_ratio) for depth_ratio in ratios}"
   ]
  },
  {
   "cell_type": "code",
   "execution_count": 19,
   "metadata": {},
   "outputs": [],
   "source": [
    "def scope(ratio):\n",
    "    lower_bound = weighted_permutations.quantile(1.0 - ratio)\n",
    "    permutations_ratio = weighted_permutations[weighted_permutations >= lower_bound].index\n",
    "    return [tuple(map(int, permutation.split())) for permutation in permutations_ratio]\n",
    "\n",
    "scope_ratios = {scope_ratio: scope(scope_ratio) for scope_ratio in ratios}"
   ]
  },
  {
   "cell_type": "code",
   "execution_count": 20,
   "metadata": {},
   "outputs": [],
   "source": [
    "def estimate(depth_ratio, scope_ratio):\n",
    "    depth_ratio = {length: len(transliteration_list) for length, transliteration_list in depth_ratios[depth_ratio].items()}\n",
    "    scope_ratio = scope_ratios[scope_ratio]\n",
    "    permutation_sum = 0\n",
    "    for permutation in scope_ratio:\n",
    "        if all(num in depth_ratio for num in permutation):\n",
    "            permutation_sum += functools.reduce(lambda x, y: x * y, [depth_ratio[num] for num in permutation]) \n",
    "    return permutation_sum\n",
    "\n",
    "depth_scope_ratios = {(depth_ratio, scope_ratio): estimate(depth_ratio, scope_ratio) for depth_ratio in depth_ratios for scope_ratio in scope_ratios}"
   ]
  },
  {
   "cell_type": "code",
   "execution_count": 21,
   "metadata": {},
   "outputs": [],
   "source": [
    "rules = [\":\", \"l\", \"u\"]\n",
    "\n",
    "with open(\"rules/transliterating.rule\", \"w\") as file:\n",
    "    file.write(\"\\n\".join(rules) + \"\\n\")"
   ]
  },
  {
   "cell_type": "code",
   "execution_count": 22,
   "metadata": {},
   "outputs": [
    {
     "data": {
      "text/plain": [
       "60000000.0"
      ]
     },
     "execution_count": 22,
     "metadata": {},
     "output_type": "execute_result"
    }
   ],
   "source": [
    "hourly_max_estimate = 50000 * 60 * 60 / len(rules)\n",
    "hourly_max_estimate"
   ]
  },
  {
   "cell_type": "code",
   "execution_count": 23,
   "metadata": {},
   "outputs": [
    {
     "data": {
      "text/plain": [
       "{'depth': 0.01,\n",
       " 'scope': 0.007,\n",
       " 'hours': 6.565286733333333,\n",
       " 'depthscope': 7.000000000000001e-05}"
      ]
     },
     "execution_count": 23,
     "metadata": {},
     "output_type": "execute_result"
    }
   ],
   "source": [
    "def best_estimate(hourly_max_estimate, hours=1, criterion=\"depthscope\"):\n",
    "    estimates = []\n",
    "    for depth_scope_ratio, ratio_estimate in depth_scope_ratios.items():\n",
    "        if ratio_estimate <= hourly_max_estimate*hours:\n",
    "            depth_ratio, scope_ratio = depth_scope_ratio\n",
    "            estimates.append({\n",
    "                \"depth\": depth_ratio,\n",
    "                \"scope\": scope_ratio,\n",
    "                \"hours\": depth_scope_ratios[depth_scope_ratio]/hourly_max_estimate,\n",
    "                \"depthscope\": depth_ratio*scope_ratio\n",
    "            })\n",
    "    return tuple(max(estimates, key=lambda x: x[criterion]).items())\n",
    "\n",
    "day_estimates = collections.Counter(best_estimate(hourly_max_estimate, i+1) for i in range(24)).most_common(1)[0]\n",
    "day_estimate = dict(day_estimates[0])\n",
    "day_estimate"
   ]
  },
  {
   "cell_type": "code",
   "execution_count": 24,
   "metadata": {},
   "outputs": [
    {
     "data": {
      "text/plain": [
       "'depth1e-02scope7e-03day3e-01hours7'"
      ]
     },
     "execution_count": 24,
     "metadata": {},
     "output_type": "execute_result"
    }
   ],
   "source": [
    "depth_str = day_estimate[\"depth\"]\n",
    "scope_str = day_estimate[\"scope\"]\n",
    "day_str = round(day_estimates[1]/24, 1)\n",
    "hours_str = round(day_estimate[\"hours\"])\n",
    "\n",
    "file_name = f\"depth{depth_str:.0e}scope{scope_str:.0e}day{day_str:.0e}hours{hours_str}\"\n",
    "file_name"
   ]
  },
  {
   "cell_type": "code",
   "execution_count": 25,
   "metadata": {},
   "outputs": [
    {
     "ename": "KeyboardInterrupt",
     "evalue": "",
     "output_type": "error",
     "traceback": [
      "\u001b[1;31m---------------------------------------------------------------------------\u001b[0m",
      "\u001b[1;31mKeyboardInterrupt\u001b[0m                         Traceback (most recent call last)",
      "\u001b[1;32mc:\\Users\\dafmo\\Documents\\UNAL\\Redes\\my_dict\\corpes_cracker_analizer.ipynb Celda 25\u001b[0m line \u001b[0;36m7\n\u001b[0;32m      <a href='vscode-notebook-cell:/c%3A/Users/dafmo/Documents/UNAL/Redes/my_dict/corpes_cracker_analizer.ipynb#X33sZmlsZQ%3D%3D?line=3'>4</a>\u001b[0m             \u001b[39mfor\u001b[39;00m permutation_tuple \u001b[39min\u001b[39;00m itertools\u001b[39m.\u001b[39mproduct(\u001b[39m*\u001b[39m[depth_ratios[depth_ratio][num] \u001b[39mfor\u001b[39;00m num \u001b[39min\u001b[39;00m permutation]):\n\u001b[0;32m      <a href='vscode-notebook-cell:/c%3A/Users/dafmo/Documents/UNAL/Redes/my_dict/corpes_cracker_analizer.ipynb#X33sZmlsZQ%3D%3D?line=4'>5</a>\u001b[0m                 file\u001b[39m.\u001b[39mwrite(\u001b[39m\"\u001b[39m\u001b[39m\"\u001b[39m\u001b[39m.\u001b[39mjoin(permutation_tuple) \u001b[39m+\u001b[39m \u001b[39m\"\u001b[39m\u001b[39m\\n\u001b[39;00m\u001b[39m\"\u001b[39m)\n\u001b[1;32m----> <a href='vscode-notebook-cell:/c%3A/Users/dafmo/Documents/UNAL/Redes/my_dict/corpes_cracker_analizer.ipynb#X33sZmlsZQ%3D%3D?line=6'>7</a>\u001b[0m wordlist(day_estimate[\u001b[39m\"\u001b[39;49m\u001b[39mdepth\u001b[39;49m\u001b[39m\"\u001b[39;49m], day_estimate[\u001b[39m\"\u001b[39;49m\u001b[39mscope\u001b[39;49m\u001b[39m\"\u001b[39;49m], file_name)\n",
      "\u001b[1;32mc:\\Users\\dafmo\\Documents\\UNAL\\Redes\\my_dict\\corpes_cracker_analizer.ipynb Celda 25\u001b[0m line \u001b[0;36m5\n\u001b[0;32m      <a href='vscode-notebook-cell:/c%3A/Users/dafmo/Documents/UNAL/Redes/my_dict/corpes_cracker_analizer.ipynb#X33sZmlsZQ%3D%3D?line=2'>3</a>\u001b[0m \u001b[39mfor\u001b[39;00m permutation \u001b[39min\u001b[39;00m scope_ratios[scope_ratio]:\n\u001b[0;32m      <a href='vscode-notebook-cell:/c%3A/Users/dafmo/Documents/UNAL/Redes/my_dict/corpes_cracker_analizer.ipynb#X33sZmlsZQ%3D%3D?line=3'>4</a>\u001b[0m     \u001b[39mfor\u001b[39;00m permutation_tuple \u001b[39min\u001b[39;00m itertools\u001b[39m.\u001b[39mproduct(\u001b[39m*\u001b[39m[depth_ratios[depth_ratio][num] \u001b[39mfor\u001b[39;00m num \u001b[39min\u001b[39;00m permutation]):\n\u001b[1;32m----> <a href='vscode-notebook-cell:/c%3A/Users/dafmo/Documents/UNAL/Redes/my_dict/corpes_cracker_analizer.ipynb#X33sZmlsZQ%3D%3D?line=4'>5</a>\u001b[0m         file\u001b[39m.\u001b[39mwrite(\u001b[39m\"\u001b[39m\u001b[39m\"\u001b[39m\u001b[39m.\u001b[39mjoin(permutation_tuple) \u001b[39m+\u001b[39m \u001b[39m\"\u001b[39m\u001b[39m\\n\u001b[39;00m\u001b[39m\"\u001b[39m)\n",
      "\u001b[1;31mKeyboardInterrupt\u001b[0m: "
     ]
    }
   ],
   "source": [
    "def wordlist(depth_ratio, scope_ratio, file_name):\n",
    "    with open(f\"wordlists/{file_name}.txt\", \"w\") as file:\n",
    "        for permutation in scope_ratios[scope_ratio]:\n",
    "            for permutation_tuple in itertools.product(*[depth_ratios[depth_ratio][num] for num in permutation]):\n",
    "                file.write(\"\".join(permutation_tuple) + \"\\n\")\n",
    "\n",
    "wordlist(day_estimate[\"depth\"], day_estimate[\"scope\"], file_name)"
   ]
  }
 ],
 "metadata": {
  "kernelspec": {
   "display_name": "Python 3",
   "language": "python",
   "name": "python3"
  },
  "language_info": {
   "codemirror_mode": {
    "name": "ipython",
    "version": 3
   },
   "file_extension": ".py",
   "mimetype": "text/x-python",
   "name": "python",
   "nbconvert_exporter": "python",
   "pygments_lexer": "ipython3",
   "version": "3.11.9"
  },
  "orig_nbformat": 4
 },
 "nbformat": 4,
 "nbformat_minor": 2
}
