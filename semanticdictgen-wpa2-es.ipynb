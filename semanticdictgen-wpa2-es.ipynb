{
  "cells": [
    {
      "cell_type": "code",
      "execution_count": 12,
      "metadata": {},
      "outputs": [
        {
          "name": "stdout",
          "output_type": "stream",
          "text": [
            "  % Total    % Received % Xferd  Average Speed   Time    Time     Time  Current\n",
            "                                 Dload  Upload   Total   Spent    Left  Speed\n",
            "100 14.8M  100 14.8M    0     0  10.3M      0  0:00:01  0:00:01 --:--:-- 10.3M\n"
          ]
        }
      ],
      "source": [
        "!curl -L -A \"Mozilla/5.0\" -o corpes_lemas.zip https://www.rae.es/corpes/assets/rae/files/corpes/corpes_lemas.zip"
      ]
    },
    {
      "cell_type": "code",
      "execution_count": 13,
      "metadata": {},
      "outputs": [],
      "source": [
        "import zipfile, os\n",
        "\n",
        "with zipfile.ZipFile(\"corpes_lemas.zip\", \"r\") as zip_ref:\n",
        "    zip_ref.extractall()\n",
        "\n",
        "os.remove(\"corpes_lemas.zip\")"
      ]
    },
    {
      "cell_type": "code",
      "execution_count": 14,
      "metadata": {
        "colab": {
          "base_uri": "https://localhost:8080/",
          "height": 477
        },
        "id": "WwmjYBzpmdfe",
        "outputId": "e33497a6-dcbe-4531-c733-0a61a380a82f"
      },
      "outputs": [
        {
          "data": {
            "text/html": [
              "<div>\n",
              "<style scoped>\n",
              "    .dataframe tbody tr th:only-of-type {\n",
              "        vertical-align: middle;\n",
              "    }\n",
              "\n",
              "    .dataframe tbody tr th {\n",
              "        vertical-align: top;\n",
              "    }\n",
              "\n",
              "    .dataframe thead th {\n",
              "        text-align: right;\n",
              "    }\n",
              "</style>\n",
              "<table border=\"1\" class=\"dataframe\">\n",
              "  <thead>\n",
              "    <tr style=\"text-align: right;\">\n",
              "      <th></th>\n",
              "      <th>element</th>\n",
              "      <th>frequency_signs</th>\n",
              "      <th>frequency_no_signs</th>\n",
              "      <th>frequency</th>\n",
              "    </tr>\n",
              "  </thead>\n",
              "  <tbody>\n",
              "    <tr>\n",
              "      <th>0</th>\n",
              "      <td>el</td>\n",
              "      <td>49657748.0</td>\n",
              "      <td>98648.64</td>\n",
              "      <td>113671.32</td>\n",
              "    </tr>\n",
              "    <tr>\n",
              "      <th>1</th>\n",
              "      <td>de</td>\n",
              "      <td>31062445.0</td>\n",
              "      <td>61707.75</td>\n",
              "      <td>71104.90</td>\n",
              "    </tr>\n",
              "    <tr>\n",
              "      <th>2</th>\n",
              "      <td>,</td>\n",
              "      <td>27823866.0</td>\n",
              "      <td>55274.08</td>\n",
              "      <td>63691.48</td>\n",
              "    </tr>\n",
              "    <tr>\n",
              "      <th>3</th>\n",
              "      <td>.</td>\n",
              "      <td>18660077.0</td>\n",
              "      <td>37069.56</td>\n",
              "      <td>42714.69</td>\n",
              "    </tr>\n",
              "    <tr>\n",
              "      <th>4</th>\n",
              "      <td>y</td>\n",
              "      <td>12468265.0</td>\n",
              "      <td>24769.09</td>\n",
              "      <td>28541.04</td>\n",
              "    </tr>\n",
              "    <tr>\n",
              "      <th>...</th>\n",
              "      <td>...</td>\n",
              "      <td>...</td>\n",
              "      <td>...</td>\n",
              "      <td>...</td>\n",
              "    </tr>\n",
              "    <tr>\n",
              "      <th>2004486</th>\n",
              "      <td>dos mil veintinueve</td>\n",
              "      <td>1.0</td>\n",
              "      <td>0.00</td>\n",
              "      <td>0.00</td>\n",
              "    </tr>\n",
              "    <tr>\n",
              "      <th>2004487</th>\n",
              "      <td>siete mil doscientos noventa y un</td>\n",
              "      <td>1.0</td>\n",
              "      <td>0.00</td>\n",
              "      <td>0.00</td>\n",
              "    </tr>\n",
              "    <tr>\n",
              "      <th>2004488</th>\n",
              "      <td>Sevilla Granada</td>\n",
              "      <td>1.0</td>\n",
              "      <td>0.00</td>\n",
              "      <td>0.00</td>\n",
              "    </tr>\n",
              "    <tr>\n",
              "      <th>2004489</th>\n",
              "      <td>Raúl Tejón Fernando Gil</td>\n",
              "      <td>1.0</td>\n",
              "      <td>0.00</td>\n",
              "      <td>0.00</td>\n",
              "    </tr>\n",
              "    <tr>\n",
              "      <th>2004490</th>\n",
              "      <td>veintidós mil trescientos</td>\n",
              "      <td>1.0</td>\n",
              "      <td>0.00</td>\n",
              "      <td>0.00</td>\n",
              "    </tr>\n",
              "  </tbody>\n",
              "</table>\n",
              "<p>2004491 rows × 4 columns</p>\n",
              "</div>"
            ],
            "text/plain": [
              "                                   element  frequency_signs  \\\n",
              "0                                       el       49657748.0   \n",
              "1                                       de       31062445.0   \n",
              "2                                        ,       27823866.0   \n",
              "3                                        .       18660077.0   \n",
              "4                                        y       12468265.0   \n",
              "...                                    ...              ...   \n",
              "2004486                dos mil veintinueve              1.0   \n",
              "2004487  siete mil doscientos noventa y un              1.0   \n",
              "2004488                    Sevilla Granada              1.0   \n",
              "2004489            Raúl Tejón Fernando Gil              1.0   \n",
              "2004490          veintidós mil trescientos              1.0   \n",
              "\n",
              "         frequency_no_signs  frequency  \n",
              "0                  98648.64  113671.32  \n",
              "1                  61707.75   71104.90  \n",
              "2                  55274.08   63691.48  \n",
              "3                  37069.56   42714.69  \n",
              "4                  24769.09   28541.04  \n",
              "...                     ...        ...  \n",
              "2004486                0.00       0.00  \n",
              "2004487                0.00       0.00  \n",
              "2004488                0.00       0.00  \n",
              "2004489                0.00       0.00  \n",
              "2004490                0.00       0.00  \n",
              "\n",
              "[2004491 rows x 4 columns]"
            ]
          },
          "execution_count": 14,
          "metadata": {},
          "output_type": "execute_result"
        }
      ],
      "source": [
        "import pandas, re\n",
        "\n",
        "csv_output = \"corpes_lemas_clean.csv\"\n",
        "dataset = \"frecuencia_lemas_corpes_1_3.txt\"\n",
        "\n",
        "with open(dataset, \"r\", encoding=\"utf-8\") as f:\n",
        "    lines = f.readlines()\n",
        "\n",
        "clean_rows = []\n",
        "\n",
        "# Expresión regular para extraer los campos ignorando etiquetas como T, P, etc.\n",
        "for line in lines:\n",
        "    match = re.match(r'^(.+?)\\s+[A-Z]\\s+([\\d.,]+)\\s+([\\d.,]+)\\s+([\\d.,]+)', line)\n",
        "    if match:\n",
        "        element = match.group(1).strip()\n",
        "        freq_signs = float(match.group(2).replace(\",\", \"\").replace(\".\", \"\"))\n",
        "        freq_sin_signs = float(match.group(3).replace(\",\", \"\"))\n",
        "        freq_normal = float(match.group(4).replace(\",\", \"\"))\n",
        "        clean_rows.append([element, freq_signs, freq_sin_signs, freq_normal])\n",
        "\n",
        "corpes_df = pandas.DataFrame(clean_rows, columns=[\n",
        "    \"element\",\n",
        "    \"frequency_signs\",       # Frecuencia con signos ortográficos\n",
        "    \"frequency_no_signs\",    # Frecuencia sin signos ortográficos\n",
        "    \"frequency\"              # Frecuencia normal\n",
        "])\n",
        "\n",
        "corpes_df"
      ]
    },
    {
      "cell_type": "code",
      "execution_count": 15,
      "metadata": {},
      "outputs": [
        {
          "data": {
            "text/html": [
              "<div>\n",
              "<style scoped>\n",
              "    .dataframe tbody tr th:only-of-type {\n",
              "        vertical-align: middle;\n",
              "    }\n",
              "\n",
              "    .dataframe tbody tr th {\n",
              "        vertical-align: top;\n",
              "    }\n",
              "\n",
              "    .dataframe thead th {\n",
              "        text-align: right;\n",
              "    }\n",
              "</style>\n",
              "<table border=\"1\" class=\"dataframe\">\n",
              "  <thead>\n",
              "    <tr style=\"text-align: right;\">\n",
              "      <th></th>\n",
              "      <th>element</th>\n",
              "      <th>frequency_signs</th>\n",
              "      <th>frequency_no_signs</th>\n",
              "      <th>frequency</th>\n",
              "    </tr>\n",
              "  </thead>\n",
              "  <tbody>\n",
              "    <tr>\n",
              "      <th>0</th>\n",
              "      <td>el</td>\n",
              "      <td>49657748.0</td>\n",
              "      <td>98648.64</td>\n",
              "      <td>113671.32</td>\n",
              "    </tr>\n",
              "    <tr>\n",
              "      <th>1</th>\n",
              "      <td>de</td>\n",
              "      <td>31062445.0</td>\n",
              "      <td>61707.75</td>\n",
              "      <td>71104.90</td>\n",
              "    </tr>\n",
              "    <tr>\n",
              "      <th>2</th>\n",
              "      <td>,</td>\n",
              "      <td>27823866.0</td>\n",
              "      <td>55274.08</td>\n",
              "      <td>63691.48</td>\n",
              "    </tr>\n",
              "    <tr>\n",
              "      <th>3</th>\n",
              "      <td>.</td>\n",
              "      <td>18660077.0</td>\n",
              "      <td>37069.56</td>\n",
              "      <td>42714.69</td>\n",
              "    </tr>\n",
              "    <tr>\n",
              "      <th>4</th>\n",
              "      <td>y</td>\n",
              "      <td>12468265.0</td>\n",
              "      <td>24769.09</td>\n",
              "      <td>28541.04</td>\n",
              "    </tr>\n",
              "    <tr>\n",
              "      <th>...</th>\n",
              "      <td>...</td>\n",
              "      <td>...</td>\n",
              "      <td>...</td>\n",
              "      <td>...</td>\n",
              "    </tr>\n",
              "    <tr>\n",
              "      <th>378210</th>\n",
              "      <td>Niceaunties</td>\n",
              "      <td>5.0</td>\n",
              "      <td>0.00</td>\n",
              "      <td>0.01</td>\n",
              "    </tr>\n",
              "    <tr>\n",
              "      <th>378211</th>\n",
              "      <td>KM3NET</td>\n",
              "      <td>5.0</td>\n",
              "      <td>0.00</td>\n",
              "      <td>0.01</td>\n",
              "    </tr>\n",
              "    <tr>\n",
              "      <th>378212</th>\n",
              "      <td>Nejliúdov</td>\n",
              "      <td>5.0</td>\n",
              "      <td>0.00</td>\n",
              "      <td>0.01</td>\n",
              "    </tr>\n",
              "    <tr>\n",
              "      <th>378213</th>\n",
              "      <td>Gómez-Hurtado</td>\n",
              "      <td>5.0</td>\n",
              "      <td>0.00</td>\n",
              "      <td>0.01</td>\n",
              "    </tr>\n",
              "    <tr>\n",
              "      <th>378214</th>\n",
              "      <td>Veleia</td>\n",
              "      <td>5.0</td>\n",
              "      <td>0.00</td>\n",
              "      <td>0.01</td>\n",
              "    </tr>\n",
              "  </tbody>\n",
              "</table>\n",
              "<p>378215 rows × 4 columns</p>\n",
              "</div>"
            ],
            "text/plain": [
              "              element  frequency_signs  frequency_no_signs  frequency\n",
              "0                  el       49657748.0            98648.64  113671.32\n",
              "1                  de       31062445.0            61707.75   71104.90\n",
              "2                   ,       27823866.0            55274.08   63691.48\n",
              "3                   .       18660077.0            37069.56   42714.69\n",
              "4                   y       12468265.0            24769.09   28541.04\n",
              "...               ...              ...                 ...        ...\n",
              "378210    Niceaunties              5.0                0.00       0.01\n",
              "378211         KM3NET              5.0                0.00       0.01\n",
              "378212      Nejliúdov              5.0                0.00       0.01\n",
              "378213  Gómez-Hurtado              5.0                0.00       0.01\n",
              "378214         Veleia              5.0                0.00       0.01\n",
              "\n",
              "[378215 rows x 4 columns]"
            ]
          },
          "execution_count": 15,
          "metadata": {},
          "output_type": "execute_result"
        }
      ],
      "source": [
        "# Eliminar filas donde la frecuencia normal es 0\n",
        "corpes_df = corpes_df[corpes_df[\"frequency\"] != 0]\n",
        "\n",
        "# Guardar CSV limpio\n",
        "corpes_df.to_csv(csv_output, index=False)\n",
        "\n",
        "corpes_df"
      ]
    },
    {
      "cell_type": "code",
      "execution_count": null,
      "metadata": {
        "id": "eGegxWx0voTR"
      },
      "outputs": [],
      "source": [
        "\n",
        "\n",
        "import math\n",
        "import functools\n",
        "import itertools\n",
        "\n",
        "import collections\n",
        "import matplotlib.pyplot"
      ]
    },
    {
      "cell_type": "code",
      "execution_count": 16,
      "metadata": {
        "colab": {
          "base_uri": "https://localhost:8080/"
        },
        "id": "HJMsx3ENvoTT",
        "outputId": "19079fd8-d612-46a0-f3a9-137579994b14"
      },
      "outputs": [
        {
          "data": {
            "text/plain": [
              "{'Gabriel Garcia Marquez', 'GabrielGarciaMarquez'}"
            ]
          },
          "execution_count": 16,
          "metadata": {},
          "output_type": "execute_result"
        }
      ],
      "source": [
        "import unidecode\n",
        "\n",
        "def transliterate(string):\n",
        "    if 0 < len(string) < 64:\n",
        "        string = re.sub(r\"[^\\x20-\\x7E]\", \"\", unidecode.unidecode(string.title()))\n",
        "        return {string, string.replace(chr(32), \"\")}\n",
        "    return {}\n",
        "\n",
        "transliterate(\"gabriel garcía márquez\")"
      ]
    },
    {
      "cell_type": "code",
      "execution_count": 17,
      "metadata": {
        "colab": {
          "base_uri": "https://localhost:8080/",
          "height": 424
        },
        "id": "KEp7tLTpvoTU",
        "outputId": "37aed574-ab1c-41dc-ed61-ef534debe6e4"
      },
      "outputs": [
        {
          "data": {
            "text/html": [
              "<div>\n",
              "<style scoped>\n",
              "    .dataframe tbody tr th:only-of-type {\n",
              "        vertical-align: middle;\n",
              "    }\n",
              "\n",
              "    .dataframe tbody tr th {\n",
              "        vertical-align: top;\n",
              "    }\n",
              "\n",
              "    .dataframe thead th {\n",
              "        text-align: right;\n",
              "    }\n",
              "</style>\n",
              "<table border=\"1\" class=\"dataframe\">\n",
              "  <thead>\n",
              "    <tr style=\"text-align: right;\">\n",
              "      <th></th>\n",
              "      <th>transliterated</th>\n",
              "      <th>frequency</th>\n",
              "    </tr>\n",
              "  </thead>\n",
              "  <tbody>\n",
              "    <tr>\n",
              "      <th>0</th>\n",
              "      <td>El</td>\n",
              "      <td>113671.32</td>\n",
              "    </tr>\n",
              "    <tr>\n",
              "      <th>1</th>\n",
              "      <td>De</td>\n",
              "      <td>71104.90</td>\n",
              "    </tr>\n",
              "    <tr>\n",
              "      <th>2</th>\n",
              "      <td>,</td>\n",
              "      <td>63691.48</td>\n",
              "    </tr>\n",
              "    <tr>\n",
              "      <th>3</th>\n",
              "      <td>.</td>\n",
              "      <td>42714.69</td>\n",
              "    </tr>\n",
              "    <tr>\n",
              "      <th>4</th>\n",
              "      <td>Y</td>\n",
              "      <td>28541.04</td>\n",
              "    </tr>\n",
              "    <tr>\n",
              "      <th>...</th>\n",
              "      <td>...</td>\n",
              "      <td>...</td>\n",
              "    </tr>\n",
              "    <tr>\n",
              "      <th>481862</th>\n",
              "      <td>Niceaunties</td>\n",
              "      <td>0.01</td>\n",
              "    </tr>\n",
              "    <tr>\n",
              "      <th>481863</th>\n",
              "      <td>Km3Net</td>\n",
              "      <td>0.01</td>\n",
              "    </tr>\n",
              "    <tr>\n",
              "      <th>481864</th>\n",
              "      <td>Nejliudov</td>\n",
              "      <td>0.01</td>\n",
              "    </tr>\n",
              "    <tr>\n",
              "      <th>481865</th>\n",
              "      <td>Gomez-Hurtado</td>\n",
              "      <td>0.01</td>\n",
              "    </tr>\n",
              "    <tr>\n",
              "      <th>481866</th>\n",
              "      <td>Veleia</td>\n",
              "      <td>0.01</td>\n",
              "    </tr>\n",
              "  </tbody>\n",
              "</table>\n",
              "<p>481867 rows × 2 columns</p>\n",
              "</div>"
            ],
            "text/plain": [
              "       transliterated  frequency\n",
              "0                  El  113671.32\n",
              "1                  De   71104.90\n",
              "2                   ,   63691.48\n",
              "3                   .   42714.69\n",
              "4                   Y   28541.04\n",
              "...               ...        ...\n",
              "481862    Niceaunties       0.01\n",
              "481863         Km3Net       0.01\n",
              "481864      Nejliudov       0.01\n",
              "481865  Gomez-Hurtado       0.01\n",
              "481866         Veleia       0.01\n",
              "\n",
              "[481867 rows x 2 columns]"
            ]
          },
          "execution_count": 17,
          "metadata": {},
          "output_type": "execute_result"
        }
      ],
      "source": [
        "transliterated_data = []\n",
        "for row in corpes_df.itertuples(index=False):\n",
        "    transliterations = transliterate(row.element)\n",
        "    for transliteration in transliterations:\n",
        "        if transliteration:\n",
        "            transliterated_data.append([transliteration, row.frequency])\n",
        "corpes_df_tr = pandas.DataFrame(transliterated_data, columns=[\"transliterated\", \"frequency\"])\n",
        "corpes_df_tr"
      ]
    },
    {
      "cell_type": "code",
      "execution_count": 7,
      "metadata": {
        "colab": {
          "base_uri": "https://localhost:8080/",
          "height": 490
        },
        "id": "YYrhfYImvoTU",
        "outputId": "dad04ada-69ae-42cb-814c-b8cce69ee372"
      },
      "outputs": [
        {
          "data": {
            "text/plain": [
              "transliterated\n",
              "El                    116683.39\n",
              "De                     71150.38\n",
              ",                      63691.48\n",
              ".                      42714.69\n",
              "Que                    32167.34\n",
              "                        ...    \n",
              "Fanor Trochez Zoto         0.00\n",
              "Fanor Tellez               0.00\n",
              "Fanor Nava                 0.00\n",
              "Fanor Mondragon            0.00\n",
              "~Payaso                    0.00\n",
              "Name: frequency, Length: 2582646, dtype: float64"
            ]
          },
          "execution_count": 7,
          "metadata": {},
          "output_type": "execute_result"
        }
      ],
      "source": [
        "transliterations = corpes_df_tr.groupby(\"transliterated\")[\"frequency\"].sum().sort_values(ascending=False)\n",
        "transliterations"
      ]
    },
    {
      "cell_type": "code",
      "execution_count": 23,
      "metadata": {
        "colab": {
          "base_uri": "https://localhost:8080/"
        },
        "id": "jS_6QOPzvoTV",
        "outputId": "a74af150-3455-431e-b274-e90ee738cc0c"
      },
      "outputs": [
        {
          "data": {
            "text/plain": [
              "(np.float64(12.451754905627794), 5.420332952525103)"
            ]
          },
          "execution_count": 23,
          "metadata": {},
          "output_type": "execute_result"
        }
      ],
      "source": [
        "transliteration_length = pandas.Series(transliterations.index.str.len())\n",
        "mean_length = transliteration_length.mean()\n",
        "std_length = transliteration_length.std()\n",
        "mean_length, std_length"
      ]
    },
    {
      "cell_type": "code",
      "execution_count": 24,
      "metadata": {
        "colab": {
          "base_uri": "https://localhost:8080/",
          "height": 472
        },
        "id": "XmGgRlgNvoTV",
        "outputId": "915c0f4b-866b-4d85-cf5d-06b70a5ce176"
      },
      "outputs": [
        {
          "data": {
            "image/png": "[encoded data removed]",
            "text/plain": [
              "<Figure size 640x480 with 1 Axes>"
            ]
          },
          "metadata": {},
          "output_type": "display_data"
        }
      ],
      "source": [
        "histogram = transliteration_length.value_counts().sort_index()\n",
        "matplotlib.pyplot.bar(histogram.index, histogram, label=\"histogram\")\n",
        "matplotlib.pyplot.axvline(x=mean_length-(std_length*2), color=\"red\", linestyle=\"--\", linewidth=0.5)\n",
        "matplotlib.pyplot.axvline(x=mean_length-std_length, color=\"red\", linestyle=\"--\", linewidth=1)\n",
        "matplotlib.pyplot.axvline(x=mean_length, color=\"red\", linestyle=\"-\", label=\"mean\", linewidth=2)\n",
        "matplotlib.pyplot.axvline(x=mean_length+std_length, color=\"red\", linestyle=\"--\", label=\"mean +- std\",linewidth=1)\n",
        "matplotlib.pyplot.axvline(x=mean_length+(std_length*2), color=\"red\", linestyle=\"--\", label=\"mean +- 2std\",linewidth=0.5)\n",
        "matplotlib.pyplot.title(\"Histogram of length frequencies\")\n",
        "matplotlib.pyplot.ylabel(\"Frequency\")\n",
        "matplotlib.pyplot.xlabel(\"Length\")\n",
        "matplotlib.pyplot.legend()\n",
        "matplotlib.pyplot.show()"
      ]
    },
    {
      "cell_type": "code",
      "execution_count": 25,
      "metadata": {
        "colab": {
          "base_uri": "https://localhost:8080/"
        },
        "id": "QrjtHOvavoTV",
        "outputId": "e16cbda1-6cf7-4284-b5b0-9dcfcce490dd"
      },
      "outputs": [
        {
          "data": {
            "text/plain": [
              "(1, 23)"
            ]
          },
          "execution_count": 25,
          "metadata": {},
          "output_type": "execute_result"
        }
      ],
      "source": [
        "min_length = 1\n",
        "max_length = round((mean_length - min_length) * 2)\n",
        "(min_length, max_length)"
      ]
    },
    {
      "cell_type": "code",
      "execution_count": 26,
      "metadata": {
        "colab": {
          "base_uri": "https://localhost:8080/",
          "height": 490
        },
        "id": "5LNhyqQ2voTW",
        "outputId": "ccdba140-57e5-4e3d-e90e-cefe051d09cb"
      },
      "outputs": [
        {
          "data": {
            "text/html": [
              "<div>\n",
              "<style scoped>\n",
              "    .dataframe tbody tr th:only-of-type {\n",
              "        vertical-align: middle;\n",
              "    }\n",
              "\n",
              "    .dataframe tbody tr th {\n",
              "        vertical-align: top;\n",
              "    }\n",
              "\n",
              "    .dataframe thead th {\n",
              "        text-align: right;\n",
              "    }\n",
              "</style>\n",
              "<table border=\"1\" class=\"dataframe\">\n",
              "  <thead>\n",
              "    <tr style=\"text-align: right;\">\n",
              "      <th></th>\n",
              "      <th>frequency</th>\n",
              "    </tr>\n",
              "    <tr>\n",
              "      <th>transliterated</th>\n",
              "      <th></th>\n",
              "    </tr>\n",
              "  </thead>\n",
              "  <tbody>\n",
              "    <tr>\n",
              "      <th>El</th>\n",
              "      <td>116683.39</td>\n",
              "    </tr>\n",
              "    <tr>\n",
              "      <th>De</th>\n",
              "      <td>71150.38</td>\n",
              "    </tr>\n",
              "    <tr>\n",
              "      <th>,</th>\n",
              "      <td>63691.48</td>\n",
              "    </tr>\n",
              "    <tr>\n",
              "      <th>.</th>\n",
              "      <td>42714.69</td>\n",
              "    </tr>\n",
              "    <tr>\n",
              "      <th>Que</th>\n",
              "      <td>32167.34</td>\n",
              "    </tr>\n",
              "    <tr>\n",
              "      <th>...</th>\n",
              "      <td>...</td>\n",
              "    </tr>\n",
              "    <tr>\n",
              "      <th>FanorTellez</th>\n",
              "      <td>0.00</td>\n",
              "    </tr>\n",
              "    <tr>\n",
              "      <th>FanorTrochezZoto</th>\n",
              "      <td>0.00</td>\n",
              "    </tr>\n",
              "    <tr>\n",
              "      <th>FanorVillarroel</th>\n",
              "      <td>0.00</td>\n",
              "    </tr>\n",
              "    <tr>\n",
              "      <th>FanorZamudio</th>\n",
              "      <td>0.00</td>\n",
              "    </tr>\n",
              "    <tr>\n",
              "      <th>Fanor Zamudio</th>\n",
              "      <td>0.00</td>\n",
              "    </tr>\n",
              "  </tbody>\n",
              "</table>\n",
              "<p>2456454 rows × 1 columns</p>\n",
              "</div><br><label><b>dtype:</b> float64</label>"
            ],
            "text/plain": [
              "transliterated\n",
              "El                  116683.39\n",
              "De                   71150.38\n",
              ",                    63691.48\n",
              ".                    42714.69\n",
              "Que                  32167.34\n",
              "                      ...    \n",
              "FanorTellez              0.00\n",
              "FanorTrochezZoto         0.00\n",
              "FanorVillarroel          0.00\n",
              "FanorZamudio             0.00\n",
              "Fanor Zamudio            0.00\n",
              "Name: frequency, Length: 2456454, dtype: float64"
            ]
          },
          "execution_count": 26,
          "metadata": {},
          "output_type": "execute_result"
        }
      ],
      "source": [
        "transliterations = transliterations[transliterations.index.str.len() < max_length]\n",
        "transliterations"
      ]
    },
    {
      "cell_type": "code",
      "execution_count": 27,
      "metadata": {
        "colab": {
          "base_uri": "https://localhost:8080/"
        },
        "id": "_6M0rBbyvoTW",
        "outputId": "9c979846-4045-4783-cecf-1bce722f01cb"
      },
      "outputs": [
        {
          "data": {
            "text/plain": [
              "Index([ 2,  2,  1,  1,  3,  1,  2,  1,  2,  3,\n",
              "       ...\n",
              "        8, 16, 11, 14,  9, 11, 16, 15, 12, 13],\n",
              "      dtype='int64', name='transliterated', length=2456454)"
            ]
          },
          "execution_count": 27,
          "metadata": {},
          "output_type": "execute_result"
        }
      ],
      "source": [
        "transliteration_length = transliterations.index.str.len()\n",
        "transliteration_length"
      ]
    },
    {
      "cell_type": "code",
      "execution_count": 28,
      "metadata": {
        "colab": {
          "base_uri": "https://localhost:8080/",
          "height": 805
        },
        "id": "q7nBZEXKvoTW",
        "outputId": "7454778c-8e3d-45a0-9ea0-1dafb44f3de2"
      },
      "outputs": [
        {
          "data": {
            "text/html": [
              "<div>\n",
              "<style scoped>\n",
              "    .dataframe tbody tr th:only-of-type {\n",
              "        vertical-align: middle;\n",
              "    }\n",
              "\n",
              "    .dataframe tbody tr th {\n",
              "        vertical-align: top;\n",
              "    }\n",
              "\n",
              "    .dataframe thead th {\n",
              "        text-align: right;\n",
              "    }\n",
              "</style>\n",
              "<table border=\"1\" class=\"dataframe\">\n",
              "  <thead>\n",
              "    <tr style=\"text-align: right;\">\n",
              "      <th></th>\n",
              "      <th>count</th>\n",
              "    </tr>\n",
              "    <tr>\n",
              "      <th>transliterated</th>\n",
              "      <th></th>\n",
              "    </tr>\n",
              "  </thead>\n",
              "  <tbody>\n",
              "    <tr>\n",
              "      <th>1</th>\n",
              "      <td>66</td>\n",
              "    </tr>\n",
              "    <tr>\n",
              "      <th>2</th>\n",
              "      <td>1285</td>\n",
              "    </tr>\n",
              "    <tr>\n",
              "      <th>3</th>\n",
              "      <td>16414</td>\n",
              "    </tr>\n",
              "    <tr>\n",
              "      <th>4</th>\n",
              "      <td>50971</td>\n",
              "    </tr>\n",
              "    <tr>\n",
              "      <th>5</th>\n",
              "      <td>115172</td>\n",
              "    </tr>\n",
              "    <tr>\n",
              "      <th>6</th>\n",
              "      <td>138273</td>\n",
              "    </tr>\n",
              "    <tr>\n",
              "      <th>7</th>\n",
              "      <td>155153</td>\n",
              "    </tr>\n",
              "    <tr>\n",
              "      <th>8</th>\n",
              "      <td>152053</td>\n",
              "    </tr>\n",
              "    <tr>\n",
              "      <th>9</th>\n",
              "      <td>177140</td>\n",
              "    </tr>\n",
              "    <tr>\n",
              "      <th>10</th>\n",
              "      <td>185152</td>\n",
              "    </tr>\n",
              "    <tr>\n",
              "      <th>11</th>\n",
              "      <td>207448</td>\n",
              "    </tr>\n",
              "    <tr>\n",
              "      <th>12</th>\n",
              "      <td>220540</td>\n",
              "    </tr>\n",
              "    <tr>\n",
              "      <th>13</th>\n",
              "      <td>216305</td>\n",
              "    </tr>\n",
              "    <tr>\n",
              "      <th>14</th>\n",
              "      <td>190441</td>\n",
              "    </tr>\n",
              "    <tr>\n",
              "      <th>15</th>\n",
              "      <td>154307</td>\n",
              "    </tr>\n",
              "    <tr>\n",
              "      <th>16</th>\n",
              "      <td>118877</td>\n",
              "    </tr>\n",
              "    <tr>\n",
              "      <th>17</th>\n",
              "      <td>91794</td>\n",
              "    </tr>\n",
              "    <tr>\n",
              "      <th>18</th>\n",
              "      <td>73510</td>\n",
              "    </tr>\n",
              "    <tr>\n",
              "      <th>19</th>\n",
              "      <td>61085</td>\n",
              "    </tr>\n",
              "    <tr>\n",
              "      <th>20</th>\n",
              "      <td>51632</td>\n",
              "    </tr>\n",
              "    <tr>\n",
              "      <th>21</th>\n",
              "      <td>43451</td>\n",
              "    </tr>\n",
              "    <tr>\n",
              "      <th>22</th>\n",
              "      <td>35385</td>\n",
              "    </tr>\n",
              "  </tbody>\n",
              "</table>\n",
              "</div><br><label><b>dtype:</b> int64</label>"
            ],
            "text/plain": [
              "transliterated\n",
              "1         66\n",
              "2       1285\n",
              "3      16414\n",
              "4      50971\n",
              "5     115172\n",
              "6     138273\n",
              "7     155153\n",
              "8     152053\n",
              "9     177140\n",
              "10    185152\n",
              "11    207448\n",
              "12    220540\n",
              "13    216305\n",
              "14    190441\n",
              "15    154307\n",
              "16    118877\n",
              "17     91794\n",
              "18     73510\n",
              "19     61085\n",
              "20     51632\n",
              "21     43451\n",
              "22     35385\n",
              "Name: count, dtype: int64"
            ]
          },
          "execution_count": 28,
          "metadata": {},
          "output_type": "execute_result"
        }
      ],
      "source": [
        "transliteration_length_counts = transliteration_length.value_counts().sort_index()\n",
        "transliteration_length_counts"
      ]
    },
    {
      "cell_type": "code",
      "execution_count": 29,
      "metadata": {
        "colab": {
          "base_uri": "https://localhost:8080/",
          "height": 805
        },
        "id": "vyg3Mgh2voTW",
        "outputId": "49e201a2-d717-460b-99c6-83e1d41bb187"
      },
      "outputs": [
        {
          "data": {
            "text/html": [
              "<div>\n",
              "<style scoped>\n",
              "    .dataframe tbody tr th:only-of-type {\n",
              "        vertical-align: middle;\n",
              "    }\n",
              "\n",
              "    .dataframe tbody tr th {\n",
              "        vertical-align: top;\n",
              "    }\n",
              "\n",
              "    .dataframe thead th {\n",
              "        text-align: right;\n",
              "    }\n",
              "</style>\n",
              "<table border=\"1\" class=\"dataframe\">\n",
              "  <thead>\n",
              "    <tr style=\"text-align: right;\">\n",
              "      <th></th>\n",
              "      <th>count</th>\n",
              "    </tr>\n",
              "    <tr>\n",
              "      <th>transliterated</th>\n",
              "      <th></th>\n",
              "    </tr>\n",
              "  </thead>\n",
              "  <tbody>\n",
              "    <tr>\n",
              "      <th>1</th>\n",
              "      <td>0.000027</td>\n",
              "    </tr>\n",
              "    <tr>\n",
              "      <th>2</th>\n",
              "      <td>0.000523</td>\n",
              "    </tr>\n",
              "    <tr>\n",
              "      <th>3</th>\n",
              "      <td>0.006682</td>\n",
              "    </tr>\n",
              "    <tr>\n",
              "      <th>4</th>\n",
              "      <td>0.020750</td>\n",
              "    </tr>\n",
              "    <tr>\n",
              "      <th>5</th>\n",
              "      <td>0.046885</td>\n",
              "    </tr>\n",
              "    <tr>\n",
              "      <th>6</th>\n",
              "      <td>0.056290</td>\n",
              "    </tr>\n",
              "    <tr>\n",
              "      <th>7</th>\n",
              "      <td>0.063161</td>\n",
              "    </tr>\n",
              "    <tr>\n",
              "      <th>8</th>\n",
              "      <td>0.061899</td>\n",
              "    </tr>\n",
              "    <tr>\n",
              "      <th>9</th>\n",
              "      <td>0.072112</td>\n",
              "    </tr>\n",
              "    <tr>\n",
              "      <th>10</th>\n",
              "      <td>0.075374</td>\n",
              "    </tr>\n",
              "    <tr>\n",
              "      <th>11</th>\n",
              "      <td>0.084450</td>\n",
              "    </tr>\n",
              "    <tr>\n",
              "      <th>12</th>\n",
              "      <td>0.089780</td>\n",
              "    </tr>\n",
              "    <tr>\n",
              "      <th>13</th>\n",
              "      <td>0.088056</td>\n",
              "    </tr>\n",
              "    <tr>\n",
              "      <th>14</th>\n",
              "      <td>0.077527</td>\n",
              "    </tr>\n",
              "    <tr>\n",
              "      <th>15</th>\n",
              "      <td>0.062817</td>\n",
              "    </tr>\n",
              "    <tr>\n",
              "      <th>16</th>\n",
              "      <td>0.048394</td>\n",
              "    </tr>\n",
              "    <tr>\n",
              "      <th>17</th>\n",
              "      <td>0.037368</td>\n",
              "    </tr>\n",
              "    <tr>\n",
              "      <th>18</th>\n",
              "      <td>0.029925</td>\n",
              "    </tr>\n",
              "    <tr>\n",
              "      <th>19</th>\n",
              "      <td>0.024867</td>\n",
              "    </tr>\n",
              "    <tr>\n",
              "      <th>20</th>\n",
              "      <td>0.021019</td>\n",
              "    </tr>\n",
              "    <tr>\n",
              "      <th>21</th>\n",
              "      <td>0.017689</td>\n",
              "    </tr>\n",
              "    <tr>\n",
              "      <th>22</th>\n",
              "      <td>0.014405</td>\n",
              "    </tr>\n",
              "  </tbody>\n",
              "</table>\n",
              "</div><br><label><b>dtype:</b> float64</label>"
            ],
            "text/plain": [
              "transliterated\n",
              "1     0.000027\n",
              "2     0.000523\n",
              "3     0.006682\n",
              "4     0.020750\n",
              "5     0.046885\n",
              "6     0.056290\n",
              "7     0.063161\n",
              "8     0.061899\n",
              "9     0.072112\n",
              "10    0.075374\n",
              "11    0.084450\n",
              "12    0.089780\n",
              "13    0.088056\n",
              "14    0.077527\n",
              "15    0.062817\n",
              "16    0.048394\n",
              "17    0.037368\n",
              "18    0.029925\n",
              "19    0.024867\n",
              "20    0.021019\n",
              "21    0.017689\n",
              "22    0.014405\n",
              "Name: count, dtype: float64"
            ]
          },
          "execution_count": 29,
          "metadata": {},
          "output_type": "execute_result"
        }
      ],
      "source": [
        "length_frequency_distribution = (transliteration_length_counts / transliteration_length_counts.sum()).sort_index()\n",
        "length_frequency_distribution"
      ]
    },
    {
      "cell_type": "code",
      "execution_count": 30,
      "metadata": {
        "colab": {
          "base_uri": "https://localhost:8080/",
          "height": 805
        },
        "id": "cJUgMmFSvoTW",
        "outputId": "2e0c5605-2844-4920-d287-f1050d4a3f59"
      },
      "outputs": [
        {
          "data": {
            "text/html": [
              "<div>\n",
              "<style scoped>\n",
              "    .dataframe tbody tr th:only-of-type {\n",
              "        vertical-align: middle;\n",
              "    }\n",
              "\n",
              "    .dataframe tbody tr th {\n",
              "        vertical-align: top;\n",
              "    }\n",
              "\n",
              "    .dataframe thead th {\n",
              "        text-align: right;\n",
              "    }\n",
              "</style>\n",
              "<table border=\"1\" class=\"dataframe\">\n",
              "  <thead>\n",
              "    <tr style=\"text-align: right;\">\n",
              "      <th></th>\n",
              "      <th>frequency</th>\n",
              "    </tr>\n",
              "    <tr>\n",
              "      <th>transliterated</th>\n",
              "      <th></th>\n",
              "    </tr>\n",
              "  </thead>\n",
              "  <tbody>\n",
              "    <tr>\n",
              "      <th>1</th>\n",
              "      <td>0.199872</td>\n",
              "    </tr>\n",
              "    <tr>\n",
              "      <th>2</th>\n",
              "      <td>0.305483</td>\n",
              "    </tr>\n",
              "    <tr>\n",
              "      <th>3</th>\n",
              "      <td>0.119355</td>\n",
              "    </tr>\n",
              "    <tr>\n",
              "      <th>4</th>\n",
              "      <td>0.083564</td>\n",
              "    </tr>\n",
              "    <tr>\n",
              "      <th>5</th>\n",
              "      <td>0.110012</td>\n",
              "    </tr>\n",
              "    <tr>\n",
              "      <th>6</th>\n",
              "      <td>0.085020</td>\n",
              "    </tr>\n",
              "    <tr>\n",
              "      <th>7</th>\n",
              "      <td>0.079022</td>\n",
              "    </tr>\n",
              "    <tr>\n",
              "      <th>8</th>\n",
              "      <td>0.065012</td>\n",
              "    </tr>\n",
              "    <tr>\n",
              "      <th>9</th>\n",
              "      <td>0.046206</td>\n",
              "    </tr>\n",
              "    <tr>\n",
              "      <th>10</th>\n",
              "      <td>0.030327</td>\n",
              "    </tr>\n",
              "    <tr>\n",
              "      <th>11</th>\n",
              "      <td>0.020274</td>\n",
              "    </tr>\n",
              "    <tr>\n",
              "      <th>12</th>\n",
              "      <td>0.011115</td>\n",
              "    </tr>\n",
              "    <tr>\n",
              "      <th>13</th>\n",
              "      <td>0.007406</td>\n",
              "    </tr>\n",
              "    <tr>\n",
              "      <th>14</th>\n",
              "      <td>0.004840</td>\n",
              "    </tr>\n",
              "    <tr>\n",
              "      <th>15</th>\n",
              "      <td>0.002368</td>\n",
              "    </tr>\n",
              "    <tr>\n",
              "      <th>16</th>\n",
              "      <td>0.001063</td>\n",
              "    </tr>\n",
              "    <tr>\n",
              "      <th>17</th>\n",
              "      <td>0.000591</td>\n",
              "    </tr>\n",
              "    <tr>\n",
              "      <th>18</th>\n",
              "      <td>0.000386</td>\n",
              "    </tr>\n",
              "    <tr>\n",
              "      <th>19</th>\n",
              "      <td>0.000236</td>\n",
              "    </tr>\n",
              "    <tr>\n",
              "      <th>20</th>\n",
              "      <td>0.000177</td>\n",
              "    </tr>\n",
              "    <tr>\n",
              "      <th>21</th>\n",
              "      <td>0.000096</td>\n",
              "    </tr>\n",
              "    <tr>\n",
              "      <th>22</th>\n",
              "      <td>0.000076</td>\n",
              "    </tr>\n",
              "  </tbody>\n",
              "</table>\n",
              "</div><br><label><b>dtype:</b> float64</label>"
            ],
            "text/plain": [
              "transliterated\n",
              "1     0.199872\n",
              "2     0.305483\n",
              "3     0.119355\n",
              "4     0.083564\n",
              "5     0.110012\n",
              "6     0.085020\n",
              "7     0.079022\n",
              "8     0.065012\n",
              "9     0.046206\n",
              "10    0.030327\n",
              "11    0.020274\n",
              "12    0.011115\n",
              "13    0.007406\n",
              "14    0.004840\n",
              "15    0.002368\n",
              "16    0.001063\n",
              "17    0.000591\n",
              "18    0.000386\n",
              "19    0.000236\n",
              "20    0.000177\n",
              "21    0.000096\n",
              "22    0.000076\n",
              "Name: frequency, dtype: float64"
            ]
          },
          "execution_count": 30,
          "metadata": {},
          "output_type": "execute_result"
        }
      ],
      "source": [
        "length_frequencies_sum = transliterations.groupby(transliteration_length).sum().sort_index() / 1000000\n",
        "length_frequencies_sum"
      ]
    },
    {
      "cell_type": "code",
      "execution_count": 31,
      "metadata": {
        "colab": {
          "base_uri": "https://localhost:8080/",
          "height": 472
        },
        "id": "xTbCfxYgvoTX",
        "outputId": "f2f06b06-131c-427f-b4bc-8a16b77daf3b"
      },
      "outputs": [
        {
          "data": {
            "image/png": "[encoded data removed]",
            "text/plain": [
              "<Figure size 640x480 with 1 Axes>"
            ]
          },
          "metadata": {},
          "output_type": "display_data"
        }
      ],
      "source": [
        "weighted_frequency_sum = length_frequency_distribution * length_frequencies_sum\n",
        "matplotlib.pyplot.bar(weighted_frequency_sum.index, weighted_frequency_sum, label=\"histogram\")\n",
        "matplotlib.pyplot.title(\"Histogram of Weighted Length Frequencies\")\n",
        "matplotlib.pyplot.ylabel(\"Weighted Frequency\")\n",
        "matplotlib.pyplot.xlabel(\"Length\")\n",
        "matplotlib.pyplot.show()"
      ]
    },
    {
      "cell_type": "code",
      "execution_count": 32,
      "metadata": {
        "colab": {
          "base_uri": "https://localhost:8080/"
        },
        "id": "RuaTL29FvoTX",
        "outputId": "fded016d-767b-4906-d3d9-93d9ebcd36d9"
      },
      "outputs": [
        {
          "data": {
            "text/plain": [
              "39"
            ]
          },
          "execution_count": 32,
          "metadata": {},
          "output_type": "execute_result"
        }
      ],
      "source": [
        "levels = 3\n",
        "max_permutation_sum = math.ceil(mean_length) * levels\n",
        "max_permutation_sum"
      ]
    },
    {
      "cell_type": "code",
      "execution_count": 33,
      "metadata": {
        "colab": {
          "base_uri": "https://localhost:8080/",
          "height": 458
        },
        "id": "_c27ifL3voTX",
        "outputId": "064a2340-328b-4740-9f2b-5bf71fbdf4cd"
      },
      "outputs": [
        {
          "data": {
            "text/html": [
              "<div>\n",
              "<style scoped>\n",
              "    .dataframe tbody tr th:only-of-type {\n",
              "        vertical-align: middle;\n",
              "    }\n",
              "\n",
              "    .dataframe tbody tr th {\n",
              "        vertical-align: top;\n",
              "    }\n",
              "\n",
              "    .dataframe thead th {\n",
              "        text-align: right;\n",
              "    }\n",
              "</style>\n",
              "<table border=\"1\" class=\"dataframe\">\n",
              "  <thead>\n",
              "    <tr style=\"text-align: right;\">\n",
              "      <th></th>\n",
              "      <th>0</th>\n",
              "    </tr>\n",
              "  </thead>\n",
              "  <tbody>\n",
              "    <tr>\n",
              "      <th>8</th>\n",
              "      <td>4.024226e-03</td>\n",
              "    </tr>\n",
              "    <tr>\n",
              "      <th>9</th>\n",
              "      <td>3.331979e-03</td>\n",
              "    </tr>\n",
              "    <tr>\n",
              "      <th>5 5</th>\n",
              "      <td>2.578978e-03</td>\n",
              "    </tr>\n",
              "    <tr>\n",
              "      <th>5 7</th>\n",
              "      <td>2.530316e-03</td>\n",
              "    </tr>\n",
              "    <tr>\n",
              "      <th>7 5</th>\n",
              "      <td>2.530316e-03</td>\n",
              "    </tr>\n",
              "    <tr>\n",
              "      <th>...</th>\n",
              "      <td>...</td>\n",
              "    </tr>\n",
              "    <tr>\n",
              "      <th>22 1</th>\n",
              "      <td>6.420519e-07</td>\n",
              "    </tr>\n",
              "    <tr>\n",
              "      <th>1 22</th>\n",
              "      <td>6.420519e-07</td>\n",
              "    </tr>\n",
              "    <tr>\n",
              "      <th>1 1 22</th>\n",
              "      <td>4.847852e-07</td>\n",
              "    </tr>\n",
              "    <tr>\n",
              "      <th>1 22 1</th>\n",
              "      <td>4.847852e-07</td>\n",
              "    </tr>\n",
              "    <tr>\n",
              "      <th>22 1 1</th>\n",
              "      <td>4.847852e-07</td>\n",
              "    </tr>\n",
              "  </tbody>\n",
              "</table>\n",
              "<p>7527 rows × 1 columns</p>\n",
              "</div><br><label><b>dtype:</b> float64</label>"
            ],
            "text/plain": [
              "8         4.024226e-03\n",
              "9         3.331979e-03\n",
              "5 5       2.578978e-03\n",
              "5 7       2.530316e-03\n",
              "7 5       2.530316e-03\n",
              "              ...     \n",
              "22 1      6.420519e-07\n",
              "1 22      6.420519e-07\n",
              "1 1 22    4.847852e-07\n",
              "1 22 1    4.847852e-07\n",
              "22 1 1    4.847852e-07\n",
              "Length: 7527, dtype: float64"
            ]
          },
          "execution_count": 33,
          "metadata": {},
          "output_type": "execute_result"
        }
      ],
      "source": [
        "permutations_strs = []\n",
        "permutation_frequencies = []\n",
        "\n",
        "for level in range(1, levels+1):\n",
        "    permutations = itertools.product(range(min_length, max_length), repeat=level)\n",
        "    for permutation in permutations:\n",
        "        permutation_sum = sum(permutation)\n",
        "        if 8 <= permutation_sum <= max_permutation_sum:\n",
        "            permutation_frequencies.append(sum(weighted_frequency_sum[num]*num/permutation_sum for num in permutation) * 1/len(permutation))\n",
        "            permutations_strs.append(\" \".join(str(num) for num in permutation))\n",
        "weighted_permutations = pandas.Series(permutation_frequencies, index=permutations_strs).sort_values(ascending=False)\n",
        "weighted_permutations"
      ]
    },
    {
      "cell_type": "code",
      "execution_count": 34,
      "metadata": {
        "colab": {
          "base_uri": "https://localhost:8080/"
        },
        "id": "Wndubio4voTX",
        "outputId": "9edb55b4-e1be-456d-d65b-f30edcf51c30"
      },
      "outputs": [
        {
          "data": {
            "text/plain": [
              "[0.001,\n",
              " 0.002,\n",
              " 0.003,\n",
              " 0.004,\n",
              " 0.005,\n",
              " 0.006,\n",
              " 0.007,\n",
              " 0.008,\n",
              " 0.009,\n",
              " 0.01,\n",
              " 0.02,\n",
              " 0.03,\n",
              " 0.04,\n",
              " 0.05,\n",
              " 0.06,\n",
              " 0.07,\n",
              " 0.08,\n",
              " 0.09,\n",
              " 0.1,\n",
              " 0.2,\n",
              " 0.3,\n",
              " 0.4,\n",
              " 0.5,\n",
              " 0.6,\n",
              " 0.7,\n",
              " 0.8,\n",
              " 0.9,\n",
              " 1.0]"
            ]
          },
          "execution_count": 34,
          "metadata": {},
          "output_type": "execute_result"
        }
      ],
      "source": [
        "ratios = [1.0] + [n / 10**i for n in range(1, 10) for i in range(1, 4)]\n",
        "ratios = sorted(ratios)\n",
        "ratios"
      ]
    },
    {
      "cell_type": "code",
      "execution_count": 36,
      "metadata": {
        "id": "mjCw04iKvoTX"
      },
      "outputs": [],
      "source": [
        "def depth(ratio):\n",
        "    lower_bound = transliterations.quantile(1.0 - ratio)\n",
        "    transliterations_ratio = transliterations[transliterations >= lower_bound].index\n",
        "    return transliterations_ratio.to_series().groupby(transliterations_ratio.str.len()).apply(list).to_dict()\n",
        "\n",
        "depth_ratios = {depth_ratio: depth(depth_ratio) for depth_ratio in ratios}"
      ]
    },
    {
      "cell_type": "code",
      "execution_count": 37,
      "metadata": {
        "id": "IZix4w-lvoTX"
      },
      "outputs": [],
      "source": [
        "def scope(ratio):\n",
        "    lower_bound = weighted_permutations.quantile(1.0 - ratio)\n",
        "    permutations_ratio = weighted_permutations[weighted_permutations >= lower_bound].index\n",
        "    return [tuple(map(int, permutation.split())) for permutation in permutations_ratio]\n",
        "\n",
        "scope_ratios = {scope_ratio: scope(scope_ratio) for scope_ratio in ratios}"
      ]
    },
    {
      "cell_type": "code",
      "execution_count": 38,
      "metadata": {
        "id": "_n0uCKEfvoTX"
      },
      "outputs": [],
      "source": [
        "def estimate(depth_ratio, scope_ratio):\n",
        "    depth_ratio = {length: len(transliteration_list) for length, transliteration_list in depth_ratios[depth_ratio].items()}\n",
        "    scope_ratio = scope_ratios[scope_ratio]\n",
        "    permutation_sum = 0\n",
        "    for permutation in scope_ratio:\n",
        "        if all(num in depth_ratio for num in permutation):\n",
        "            permutation_sum += functools.reduce(lambda x, y: x * y, [depth_ratio[num] for num in permutation])\n",
        "    return permutation_sum\n",
        "\n",
        "depth_scope_ratios = {(depth_ratio, scope_ratio): estimate(depth_ratio, scope_ratio) for depth_ratio in depth_ratios for scope_ratio in scope_ratios}"
      ]
    },
    {
      "cell_type": "code",
      "execution_count": 39,
      "metadata": {
        "colab": {
          "base_uri": "https://localhost:8080/",
          "height": 198
        },
        "id": "zTRGKLwUvoTX",
        "outputId": "3cdedd11-4c4d-4e80-a085-7186bc6a1682"
      },
      "outputs": [
        {
          "ename": "FileNotFoundError",
          "evalue": "[Errno 2] No such file or directory: 'rules/transliterating.rule'",
          "output_type": "error",
          "traceback": [
            "\u001b[0;31m---------------------------------------------------------------------------\u001b[0m",
            "\u001b[0;31mFileNotFoundError\u001b[0m                         Traceback (most recent call last)",
            "\u001b[0;32m/tmp/ipython-input-39-3057789120.py\u001b[0m in \u001b[0;36m<cell line: 0>\u001b[0;34m()\u001b[0m\n\u001b[1;32m      1\u001b[0m \u001b[0mrules\u001b[0m \u001b[0;34m=\u001b[0m \u001b[0;34m[\u001b[0m\u001b[0;34m\":\"\u001b[0m\u001b[0;34m,\u001b[0m \u001b[0;34m\"l\"\u001b[0m\u001b[0;34m,\u001b[0m \u001b[0;34m\"u\"\u001b[0m\u001b[0;34m]\u001b[0m\u001b[0;34m\u001b[0m\u001b[0;34m\u001b[0m\u001b[0m\n\u001b[1;32m      2\u001b[0m \u001b[0;34m\u001b[0m\u001b[0m\n\u001b[0;32m----> 3\u001b[0;31m \u001b[0;32mwith\u001b[0m \u001b[0mopen\u001b[0m\u001b[0;34m(\u001b[0m\u001b[0;34m\"rules/transliterating.rule\"\u001b[0m\u001b[0;34m,\u001b[0m \u001b[0;34m\"w\"\u001b[0m\u001b[0;34m)\u001b[0m \u001b[0;32mas\u001b[0m \u001b[0mfile\u001b[0m\u001b[0;34m:\u001b[0m\u001b[0;34m\u001b[0m\u001b[0;34m\u001b[0m\u001b[0m\n\u001b[0m\u001b[1;32m      4\u001b[0m     \u001b[0mfile\u001b[0m\u001b[0;34m.\u001b[0m\u001b[0mwrite\u001b[0m\u001b[0;34m(\u001b[0m\u001b[0;34m\"\\n\"\u001b[0m\u001b[0;34m.\u001b[0m\u001b[0mjoin\u001b[0m\u001b[0;34m(\u001b[0m\u001b[0mrules\u001b[0m\u001b[0;34m)\u001b[0m \u001b[0;34m+\u001b[0m \u001b[0;34m\"\\n\"\u001b[0m\u001b[0;34m)\u001b[0m\u001b[0;34m\u001b[0m\u001b[0;34m\u001b[0m\u001b[0m\n",
            "\u001b[0;31mFileNotFoundError\u001b[0m: [Errno 2] No such file or directory: 'rules/transliterating.rule'"
          ]
        }
      ],
      "source": [
        "rules = [\":\", \"l\", \"u\"]\n",
        "\n",
        "with open(\"rules/transliterating.rule\", \"w\") as file:\n",
        "    file.write(\"\\n\".join(rules) + \"\\n\")"
      ]
    },
    {
      "cell_type": "code",
      "execution_count": null,
      "metadata": {
        "id": "XSqSzOkxvoTX",
        "outputId": "4dd22ef2-6f54-4de6-fa33-be78d6f148de"
      },
      "outputs": [
        {
          "data": {
            "text/plain": [
              "60000000.0"
            ]
          },
          "execution_count": 22,
          "metadata": {},
          "output_type": "execute_result"
        }
      ],
      "source": [
        "hourly_max_estimate = 50000 * 60 * 60 / len(rules)\n",
        "hourly_max_estimate"
      ]
    },
    {
      "cell_type": "code",
      "execution_count": null,
      "metadata": {
        "id": "lgqP0O-SvoTX",
        "outputId": "756b6728-edcf-4ccf-c26b-6b8a129f0e13"
      },
      "outputs": [
        {
          "data": {
            "text/plain": [
              "{'depth': 0.01,\n",
              " 'scope': 0.007,\n",
              " 'hours': 6.565286733333333,\n",
              " 'depthscope': 7.000000000000001e-05}"
            ]
          },
          "execution_count": 23,
          "metadata": {},
          "output_type": "execute_result"
        }
      ],
      "source": [
        "def best_estimate(hourly_max_estimate, hours=1, criterion=\"depthscope\"):\n",
        "    estimates = []\n",
        "    for depth_scope_ratio, ratio_estimate in depth_scope_ratios.items():\n",
        "        if ratio_estimate <= hourly_max_estimate*hours:\n",
        "            depth_ratio, scope_ratio = depth_scope_ratio\n",
        "            estimates.append({\n",
        "                \"depth\": depth_ratio,\n",
        "                \"scope\": scope_ratio,\n",
        "                \"hours\": depth_scope_ratios[depth_scope_ratio]/hourly_max_estimate,\n",
        "                \"depthscope\": depth_ratio*scope_ratio\n",
        "            })\n",
        "    return tuple(max(estimates, key=lambda x: x[criterion]).items())\n",
        "\n",
        "day_estimates = collections.Counter(best_estimate(hourly_max_estimate, i+1) for i in range(24)).most_common(1)[0]\n",
        "day_estimate = dict(day_estimates[0])\n",
        "day_estimate"
      ]
    },
    {
      "cell_type": "code",
      "execution_count": null,
      "metadata": {
        "id": "flI4oESJvoTY",
        "outputId": "9484b22c-b4eb-44f6-9ff9-16c9bcae89c0"
      },
      "outputs": [
        {
          "data": {
            "text/plain": [
              "'depth1e-02scope7e-03day3e-01hours7'"
            ]
          },
          "execution_count": 24,
          "metadata": {},
          "output_type": "execute_result"
        }
      ],
      "source": [
        "depth_str = day_estimate[\"depth\"]\n",
        "scope_str = day_estimate[\"scope\"]\n",
        "day_str = round(day_estimates[1]/24, 1)\n",
        "hours_str = round(day_estimate[\"hours\"])\n",
        "\n",
        "file_name = f\"depth{depth_str:.0e}scope{scope_str:.0e}day{day_str:.0e}hours{hours_str}\"\n",
        "file_name"
      ]
    },
    {
      "cell_type": "code",
      "execution_count": null,
      "metadata": {
        "id": "4sMA1wNcvoTY",
        "outputId": "2bfeb034-36ef-45f9-99d6-0ea4862e90e5"
      },
      "outputs": [
        {
          "ename": "KeyboardInterrupt",
          "evalue": "",
          "output_type": "error",
          "traceback": [
            "\u001b[1;31m---------------------------------------------------------------------------\u001b[0m",
            "\u001b[1;31mKeyboardInterrupt\u001b[0m                         Traceback (most recent call last)",
            "\u001b[1;32mc:\\Users\\dafmo\\Documents\\UNAL\\Redes\\my_dict\\corpes_cracker_analizer.ipynb Celda 25\u001b[0m line \u001b[0;36m7\n\u001b[0;32m      <a href='vscode-notebook-cell:/c%3A/Users/dafmo/Documents/UNAL/Redes/my_dict/corpes_cracker_analizer.ipynb#X33sZmlsZQ%3D%3D?line=3'>4</a>\u001b[0m             \u001b[39mfor\u001b[39;00m permutation_tuple \u001b[39min\u001b[39;00m itertools\u001b[39m.\u001b[39mproduct(\u001b[39m*\u001b[39m[depth_ratios[depth_ratio][num] \u001b[39mfor\u001b[39;00m num \u001b[39min\u001b[39;00m permutation]):\n\u001b[0;32m      <a href='vscode-notebook-cell:/c%3A/Users/dafmo/Documents/UNAL/Redes/my_dict/corpes_cracker_analizer.ipynb#X33sZmlsZQ%3D%3D?line=4'>5</a>\u001b[0m                 file\u001b[39m.\u001b[39mwrite(\u001b[39m\"\u001b[39m\u001b[39m\"\u001b[39m\u001b[39m.\u001b[39mjoin(permutation_tuple) \u001b[39m+\u001b[39m \u001b[39m\"\u001b[39m\u001b[39m\\n\u001b[39;00m\u001b[39m\"\u001b[39m)\n\u001b[1;32m----> <a href='vscode-notebook-cell:/c%3A/Users/dafmo/Documents/UNAL/Redes/my_dict/corpes_cracker_analizer.ipynb#X33sZmlsZQ%3D%3D?line=6'>7</a>\u001b[0m wordlist(day_estimate[\u001b[39m\"\u001b[39;49m\u001b[39mdepth\u001b[39;49m\u001b[39m\"\u001b[39;49m], day_estimate[\u001b[39m\"\u001b[39;49m\u001b[39mscope\u001b[39;49m\u001b[39m\"\u001b[39;49m], file_name)\n",
            "\u001b[1;32mc:\\Users\\dafmo\\Documents\\UNAL\\Redes\\my_dict\\corpes_cracker_analizer.ipynb Celda 25\u001b[0m line \u001b[0;36m5\n\u001b[0;32m      <a href='vscode-notebook-cell:/c%3A/Users/dafmo/Documents/UNAL/Redes/my_dict/corpes_cracker_analizer.ipynb#X33sZmlsZQ%3D%3D?line=2'>3</a>\u001b[0m \u001b[39mfor\u001b[39;00m permutation \u001b[39min\u001b[39;00m scope_ratios[scope_ratio]:\n\u001b[0;32m      <a href='vscode-notebook-cell:/c%3A/Users/dafmo/Documents/UNAL/Redes/my_dict/corpes_cracker_analizer.ipynb#X33sZmlsZQ%3D%3D?line=3'>4</a>\u001b[0m     \u001b[39mfor\u001b[39;00m permutation_tuple \u001b[39min\u001b[39;00m itertools\u001b[39m.\u001b[39mproduct(\u001b[39m*\u001b[39m[depth_ratios[depth_ratio][num] \u001b[39mfor\u001b[39;00m num \u001b[39min\u001b[39;00m permutation]):\n\u001b[1;32m----> <a href='vscode-notebook-cell:/c%3A/Users/dafmo/Documents/UNAL/Redes/my_dict/corpes_cracker_analizer.ipynb#X33sZmlsZQ%3D%3D?line=4'>5</a>\u001b[0m         file\u001b[39m.\u001b[39mwrite(\u001b[39m\"\u001b[39m\u001b[39m\"\u001b[39m\u001b[39m.\u001b[39mjoin(permutation_tuple) \u001b[39m+\u001b[39m \u001b[39m\"\u001b[39m\u001b[39m\\n\u001b[39;00m\u001b[39m\"\u001b[39m)\n",
            "\u001b[1;31mKeyboardInterrupt\u001b[0m: "
          ]
        }
      ],
      "source": [
        "def wordlist(depth_ratio, scope_ratio, file_name):\n",
        "    with open(f\"wordlists/{file_name}.txt\", \"w\") as file:\n",
        "        for permutation in scope_ratios[scope_ratio]:\n",
        "            for permutation_tuple in itertools.product(*[depth_ratios[depth_ratio][num] for num in permutation]):\n",
        "                file.write(\"\".join(permutation_tuple) + \"\\n\")\n",
        "\n",
        "wordlist(day_estimate[\"depth\"], day_estimate[\"scope\"], file_name)"
      ]
    }
  ],
  "metadata": {
    "colab": {
      "provenance": []
    },
    "kernelspec": {
      "display_name": "Python 3",
      "language": "python",
      "name": "python3"
    },
    "language_info": {
      "codemirror_mode": {
        "name": "ipython",
        "version": 3
      },
      "file_extension": ".py",
      "mimetype": "text/x-python",
      "name": "python",
      "nbconvert_exporter": "python",
      "pygments_lexer": "ipython3",
      "version": "3.13.1"
    },
    "orig_nbformat": 4
  },
  "nbformat": 4,
  "nbformat_minor": 0
}
