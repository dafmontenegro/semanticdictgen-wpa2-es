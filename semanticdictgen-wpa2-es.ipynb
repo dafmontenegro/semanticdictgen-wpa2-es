{
  "cells": [
    {
      "cell_type": "markdown",
      "metadata": {},
      "source": [
        "# Análisis y Generación de Diccionarios Semánticos para la Criptoanálisis de Contraseñas WPA2 en Lengua Española\n",
        "\n",
        "## Proyecto | Introducción a la Criptografía\n",
        "\n",
        "\n",
        "* Paula Daniela Guzmán Zabala\n",
        "* Daniel Felipe Montenegro Herrera\n",
        "* Tomás Sebastián Vallejo Fonseca"
      ]
    },
    {
      "cell_type": "markdown",
      "metadata": {},
      "source": [
        "22 de Julio de 2025 - Bogotá\n",
        "\n",
        "Introducción a la Criptografía y Seguridad\n",
        "\n",
        "Universidad Nacional de Colombia"
      ]
    },
    {
      "cell_type": "markdown",
      "metadata": {},
      "source": [
        "---"
      ]
    },
    {
      "cell_type": "markdown",
      "metadata": {},
      "source": [
        "El objetivo principal de este proyecto es explorar y desarrollar un método alternativo al enfoque tradicional de ataque por fuerza bruta para romper claves de WPA2 mediante el uso de contraseñas semánticas en el contexto del lenguaje español. Tradicionalmente, las contraseñas de redes Wi-Fi, como las de WPA2, son seleccionadas de manera que pueden ser fáciles de recordar para los usuarios pero, en muchos casos, son relativamente débiles cuando se consideran a través de un enfoque semántico. Estas contraseñas generalmente no son largas y combinan palabras comunes, números y caracteres especiales.\n",
        "\n",
        "En lugar de realizar ataques por fuerza bruta a través de todas las combinaciones posibles (que puede llevar años debido a la vastedad de combinaciones de caracteres), nuestro enfoque se centra en un ataque semántico que emplea el conocimiento del lenguaje y las frecuencias estadísticas de las palabras para generar diccionarios de contraseñas más efectivas y eficientes."
      ]
    },
    {
      "cell_type": "markdown",
      "metadata": {},
      "source": [
        "---"
      ]
    },
    {
      "cell_type": "markdown",
      "metadata": {},
      "source": [
        "## Adquisición y Preparación de Datos"
      ]
    },
    {
      "cell_type": "markdown",
      "metadata": {},
      "source": [
        "En esta primera fase, se obtiene el corpus de datos sin procesar. Se automatiza la descarga del fichero corpes_lemas.zip desde la Real Academia Española (RAE), que contiene una lista de lemas del español junto con sus frecuencias. Inmediatamente después, se descomprime el archivo y se elimina el fichero ZIP para mantener limpio el directorio de trabajo. Este es el punto de partida para construir nuestro diccionario semántico."
      ]
    },
    {
      "cell_type": "code",
      "execution_count": null,
      "metadata": {},
      "outputs": [
        {
          "name": "stdout",
          "output_type": "stream",
          "text": [
            "  % Total    % Received % Xferd  Average Speed   Time    Time     Time  Current\n",
            "                                 Dload  Upload   Total   Spent    Left  Speed\n",
            "100 14.8M  100 14.8M    0     0  9753k      0  0:00:01  0:00:01 --:--:-- 9751k\n"
          ]
        }
      ],
      "source": [
        "# Automatización de la descarga del corpes\n",
        "\n",
        "!curl -L -A \"Mozilla/5.0\" -o corpes_lemas.zip https://www.rae.es/corpes/assets/rae/files/corpes/corpes_lemas.zip"
      ]
    },
    {
      "cell_type": "code",
      "execution_count": null,
      "metadata": {},
      "outputs": [],
      "source": [
        "import zipfile, os\n",
        "\n",
        "# Se extrae el zipfile que contiene los lemas del CORPES XXI\n",
        "\n",
        "with zipfile.ZipFile(\"corpes_lemas.zip\", \"r\") as zip_ref:\n",
        "    zip_ref.extractall()\n",
        "\n",
        "os.remove(\"corpes_lemas.zip\")"
      ]
    },
    {
      "cell_type": "markdown",
      "metadata": {},
      "source": [
        "### Parseo y Limpieza Inicial del Corpus"
      ]
    },
    {
      "cell_type": "markdown",
      "metadata": {},
      "source": [
        "Una vez obtenidos los datos, es necesario procesarlos. En esta sección, se lee el archivo de texto del corpus y se utiliza una expresión regular para parsear cada línea, extrayendo el lema y sus tres tipos de frecuencia. Estos datos se cargan en un DataFrame de Pandas para facilitar su manipulación. Como paso de limpieza crucial, se eliminan todos los lemas cuya frecuencia normalizada es menor a 1, lo que significa que solo conservamos palabras que aparecen al menos una vez por cada millón de palabras, filtrando así términos extremadamente raros que son improbables candidatos para una contraseña."
      ]
    },
    {
      "cell_type": "code",
      "execution_count": 41,
      "metadata": {
        "colab": {
          "base_uri": "https://localhost:8080/",
          "height": 477
        },
        "id": "WwmjYBzpmdfe",
        "outputId": "e33497a6-dcbe-4531-c733-0a61a380a82f"
      },
      "outputs": [
        {
          "data": {
            "text/html": [
              "<div>\n",
              "<style scoped>\n",
              "    .dataframe tbody tr th:only-of-type {\n",
              "        vertical-align: middle;\n",
              "    }\n",
              "\n",
              "    .dataframe tbody tr th {\n",
              "        vertical-align: top;\n",
              "    }\n",
              "\n",
              "    .dataframe thead th {\n",
              "        text-align: right;\n",
              "    }\n",
              "</style>\n",
              "<table border=\"1\" class=\"dataframe\">\n",
              "  <thead>\n",
              "    <tr style=\"text-align: right;\">\n",
              "      <th></th>\n",
              "      <th>element</th>\n",
              "      <th>frequency_signs</th>\n",
              "      <th>frequency_no_signs</th>\n",
              "      <th>frequency</th>\n",
              "    </tr>\n",
              "  </thead>\n",
              "  <tbody>\n",
              "    <tr>\n",
              "      <th>0</th>\n",
              "      <td>el</td>\n",
              "      <td>49657748.0</td>\n",
              "      <td>98648.64</td>\n",
              "      <td>113671.32</td>\n",
              "    </tr>\n",
              "    <tr>\n",
              "      <th>1</th>\n",
              "      <td>de</td>\n",
              "      <td>31062445.0</td>\n",
              "      <td>61707.75</td>\n",
              "      <td>71104.90</td>\n",
              "    </tr>\n",
              "    <tr>\n",
              "      <th>2</th>\n",
              "      <td>,</td>\n",
              "      <td>27823866.0</td>\n",
              "      <td>55274.08</td>\n",
              "      <td>63691.48</td>\n",
              "    </tr>\n",
              "    <tr>\n",
              "      <th>3</th>\n",
              "      <td>.</td>\n",
              "      <td>18660077.0</td>\n",
              "      <td>37069.56</td>\n",
              "      <td>42714.69</td>\n",
              "    </tr>\n",
              "    <tr>\n",
              "      <th>4</th>\n",
              "      <td>y</td>\n",
              "      <td>12468265.0</td>\n",
              "      <td>24769.09</td>\n",
              "      <td>28541.04</td>\n",
              "    </tr>\n",
              "    <tr>\n",
              "      <th>...</th>\n",
              "      <td>...</td>\n",
              "      <td>...</td>\n",
              "      <td>...</td>\n",
              "      <td>...</td>\n",
              "    </tr>\n",
              "    <tr>\n",
              "      <th>2004486</th>\n",
              "      <td>dos mil veintinueve</td>\n",
              "      <td>1.0</td>\n",
              "      <td>0.00</td>\n",
              "      <td>0.00</td>\n",
              "    </tr>\n",
              "    <tr>\n",
              "      <th>2004487</th>\n",
              "      <td>siete mil doscientos noventa y un</td>\n",
              "      <td>1.0</td>\n",
              "      <td>0.00</td>\n",
              "      <td>0.00</td>\n",
              "    </tr>\n",
              "    <tr>\n",
              "      <th>2004488</th>\n",
              "      <td>Sevilla Granada</td>\n",
              "      <td>1.0</td>\n",
              "      <td>0.00</td>\n",
              "      <td>0.00</td>\n",
              "    </tr>\n",
              "    <tr>\n",
              "      <th>2004489</th>\n",
              "      <td>Raúl Tejón Fernando Gil</td>\n",
              "      <td>1.0</td>\n",
              "      <td>0.00</td>\n",
              "      <td>0.00</td>\n",
              "    </tr>\n",
              "    <tr>\n",
              "      <th>2004490</th>\n",
              "      <td>veintidós mil trescientos</td>\n",
              "      <td>1.0</td>\n",
              "      <td>0.00</td>\n",
              "      <td>0.00</td>\n",
              "    </tr>\n",
              "  </tbody>\n",
              "</table>\n",
              "<p>2004491 rows × 4 columns</p>\n",
              "</div>"
            ],
            "text/plain": [
              "                                   element  frequency_signs  \\\n",
              "0                                       el       49657748.0   \n",
              "1                                       de       31062445.0   \n",
              "2                                        ,       27823866.0   \n",
              "3                                        .       18660077.0   \n",
              "4                                        y       12468265.0   \n",
              "...                                    ...              ...   \n",
              "2004486                dos mil veintinueve              1.0   \n",
              "2004487  siete mil doscientos noventa y un              1.0   \n",
              "2004488                    Sevilla Granada              1.0   \n",
              "2004489            Raúl Tejón Fernando Gil              1.0   \n",
              "2004490          veintidós mil trescientos              1.0   \n",
              "\n",
              "         frequency_no_signs  frequency  \n",
              "0                  98648.64  113671.32  \n",
              "1                  61707.75   71104.90  \n",
              "2                  55274.08   63691.48  \n",
              "3                  37069.56   42714.69  \n",
              "4                  24769.09   28541.04  \n",
              "...                     ...        ...  \n",
              "2004486                0.00       0.00  \n",
              "2004487                0.00       0.00  \n",
              "2004488                0.00       0.00  \n",
              "2004489                0.00       0.00  \n",
              "2004490                0.00       0.00  \n",
              "\n",
              "[2004491 rows x 4 columns]"
            ]
          },
          "execution_count": 41,
          "metadata": {},
          "output_type": "execute_result"
        }
      ],
      "source": [
        "import pandas, re\n",
        "\n",
        "csv_output = \"corpes_lemas_clean.csv\"\n",
        "dataset = \"frecuencia_lemas_corpes_1_3.txt\"\n",
        "\n",
        "with open(dataset, \"r\", encoding=\"utf-8\") as f:\n",
        "    lines = f.readlines()\n",
        "\n",
        "clean_rows = []\n",
        "\n",
        "# Expresión regular para extraer los campos ignorando etiquetas como T, P, etc.\n",
        "for line in lines:\n",
        "    match = re.match(r'^(.+?)\\s+[A-Z]\\s+([\\d.,]+)\\s+([\\d.,]+)\\s+([\\d.,]+)', line)\n",
        "    if match:\n",
        "        element = match.group(1).strip()\n",
        "        freq_signs = float(match.group(2).replace(\",\", \"\").replace(\".\", \"\"))\n",
        "        freq_sin_signs = float(match.group(3).replace(\",\", \"\"))\n",
        "        freq_normal = float(match.group(4).replace(\",\", \"\"))\n",
        "        clean_rows.append([element, freq_signs, freq_sin_signs, freq_normal])\n",
        "\n",
        "corpes_df = pandas.DataFrame(clean_rows, columns=[\n",
        "    \"element\",\n",
        "    \"frequency_signs\",       # Frecuencia con signos ortográficos\n",
        "    \"frequency_no_signs\",    # Frecuencia sin signos ortográficos\n",
        "    \"frequency\"              # Frecuencia normal\n",
        "])\n",
        "\n",
        "corpes_df"
      ]
    },
    {
      "cell_type": "code",
      "execution_count": null,
      "metadata": {},
      "outputs": [
        {
          "data": {
            "text/html": [
              "<div>\n",
              "<style scoped>\n",
              "    .dataframe tbody tr th:only-of-type {\n",
              "        vertical-align: middle;\n",
              "    }\n",
              "\n",
              "    .dataframe tbody tr th {\n",
              "        vertical-align: top;\n",
              "    }\n",
              "\n",
              "    .dataframe thead th {\n",
              "        text-align: right;\n",
              "    }\n",
              "</style>\n",
              "<table border=\"1\" class=\"dataframe\">\n",
              "  <thead>\n",
              "    <tr style=\"text-align: right;\">\n",
              "      <th></th>\n",
              "      <th>element</th>\n",
              "      <th>frequency_signs</th>\n",
              "      <th>frequency_no_signs</th>\n",
              "      <th>frequency</th>\n",
              "    </tr>\n",
              "  </thead>\n",
              "  <tbody>\n",
              "    <tr>\n",
              "      <th>0</th>\n",
              "      <td>el</td>\n",
              "      <td>49657748.0</td>\n",
              "      <td>98648.64</td>\n",
              "      <td>113671.32</td>\n",
              "    </tr>\n",
              "    <tr>\n",
              "      <th>1</th>\n",
              "      <td>de</td>\n",
              "      <td>31062445.0</td>\n",
              "      <td>61707.75</td>\n",
              "      <td>71104.90</td>\n",
              "    </tr>\n",
              "    <tr>\n",
              "      <th>2</th>\n",
              "      <td>,</td>\n",
              "      <td>27823866.0</td>\n",
              "      <td>55274.08</td>\n",
              "      <td>63691.48</td>\n",
              "    </tr>\n",
              "    <tr>\n",
              "      <th>3</th>\n",
              "      <td>.</td>\n",
              "      <td>18660077.0</td>\n",
              "      <td>37069.56</td>\n",
              "      <td>42714.69</td>\n",
              "    </tr>\n",
              "    <tr>\n",
              "      <th>4</th>\n",
              "      <td>y</td>\n",
              "      <td>12468265.0</td>\n",
              "      <td>24769.09</td>\n",
              "      <td>28541.04</td>\n",
              "    </tr>\n",
              "    <tr>\n",
              "      <th>...</th>\n",
              "      <td>...</td>\n",
              "      <td>...</td>\n",
              "      <td>...</td>\n",
              "      <td>...</td>\n",
              "    </tr>\n",
              "    <tr>\n",
              "      <th>24723</th>\n",
              "      <td>Pablo Picasso</td>\n",
              "      <td>437.0</td>\n",
              "      <td>0.86</td>\n",
              "      <td>1.00</td>\n",
              "    </tr>\n",
              "    <tr>\n",
              "      <th>24724</th>\n",
              "      <td>UF</td>\n",
              "      <td>437.0</td>\n",
              "      <td>0.86</td>\n",
              "      <td>1.00</td>\n",
              "    </tr>\n",
              "    <tr>\n",
              "      <th>24725</th>\n",
              "      <td>pirotecnia</td>\n",
              "      <td>437.0</td>\n",
              "      <td>0.86</td>\n",
              "      <td>1.00</td>\n",
              "    </tr>\n",
              "    <tr>\n",
              "      <th>24726</th>\n",
              "      <td>VÍCTOR</td>\n",
              "      <td>437.0</td>\n",
              "      <td>0.86</td>\n",
              "      <td>1.00</td>\n",
              "    </tr>\n",
              "    <tr>\n",
              "      <th>24727</th>\n",
              "      <td>José Mujica</td>\n",
              "      <td>437.0</td>\n",
              "      <td>0.86</td>\n",
              "      <td>1.00</td>\n",
              "    </tr>\n",
              "  </tbody>\n",
              "</table>\n",
              "<p>24728 rows × 4 columns</p>\n",
              "</div>"
            ],
            "text/plain": [
              "             element  frequency_signs  frequency_no_signs  frequency\n",
              "0                 el       49657748.0            98648.64  113671.32\n",
              "1                 de       31062445.0            61707.75   71104.90\n",
              "2                  ,       27823866.0            55274.08   63691.48\n",
              "3                  .       18660077.0            37069.56   42714.69\n",
              "4                  y       12468265.0            24769.09   28541.04\n",
              "...              ...              ...                 ...        ...\n",
              "24723  Pablo Picasso            437.0                0.86       1.00\n",
              "24724             UF            437.0                0.86       1.00\n",
              "24725     pirotecnia            437.0                0.86       1.00\n",
              "24726         VÍCTOR            437.0                0.86       1.00\n",
              "24727    José Mujica            437.0                0.86       1.00\n",
              "\n",
              "[24728 rows x 4 columns]"
            ]
          },
          "execution_count": 42,
          "metadata": {},
          "output_type": "execute_result"
        }
      ],
      "source": [
        "# Eliminar filas donde la frecuencia normal es menor o igual a 1\n",
        "# Es decir, filas que no tienen relevancia estadística al aparecer una vez o menos cada millón de palabras\n",
        "\n",
        "corpes_df = corpes_df[corpes_df[\"frequency\"] >= 1]\n",
        "\n",
        "# Guardar CSV limpio\n",
        "corpes_df.to_csv(csv_output, index=False)\n",
        "\n",
        "corpes_df"
      ]
    },
    {
      "cell_type": "markdown",
      "metadata": {},
      "source": [
        "## Normalización y Transliteración Semántica"
      ]
    },
    {
      "cell_type": "markdown",
      "metadata": {},
      "source": [
        "Este es un paso fundamental del proyecto. Se define una función de transliteración con tres objetivos:\n",
        "\n",
        "*  **Compatibilidad con WPA2**: Elimina cualquier carácter que no sea ASCII imprimible (\\x20-\\x7E).\n",
        "\n",
        "* **Normalización Fonética**: Convierte caracteres con acentos o diacríticos a su equivalente base (e.g., \"garcía\" a \"garcia\") usando unidecode.\n",
        "\n",
        "* **Expansión Semántica**: Para cada lema, genera dos versiones: una con espacios (si los tiene) y otra sin ellos (e.g., \"Papa Francisco\" y \"PapaFrancisco\"). Esto permite que diferentes formas de escribir una misma idea \"choquen\" o colisionen más adelante, fortaleciendo el enfoque semántico."
      ]
    },
    {
      "cell_type": "markdown",
      "metadata": {},
      "source": [
        "Esta función básicamente solo deja los caracteres imprimibles (los permitidos por WPA2) y reemplaza de forma \"inteligente\" acentos y otras cosas que tienen la misma fonetica o significado, haciendo que choquen los términos y a su vez lograr uso de los espacios de forma semántica. \n",
        "\n",
        "Por ejemplo:\n",
        "\n",
        "**\"Papá Francisco\"** y **\"Papa Francisco\"**, se unen en dos filas iguales que tendrán la misma frecuencia y significado."
      ]
    },
    {
      "cell_type": "code",
      "execution_count": 43,
      "metadata": {
        "colab": {
          "base_uri": "https://localhost:8080/"
        },
        "id": "HJMsx3ENvoTT",
        "outputId": "19079fd8-d612-46a0-f3a9-137579994b14"
      },
      "outputs": [
        {
          "data": {
            "text/plain": [
              "{'Gabriel Garcia Marquez', 'GabrielGarciaMarquez'}"
            ]
          },
          "execution_count": 43,
          "metadata": {},
          "output_type": "execute_result"
        }
      ],
      "source": [
        "import unidecode\n",
        "\n",
        "def transliterate(string):\n",
        "    if 0 < len(string) < 64:\n",
        "        string = re.sub(r\"[^\\x20-\\x7E]\", \"\", unidecode.unidecode(string.title()))\n",
        "        return {string, string.replace(chr(32), \"\")}\n",
        "    return {}\n",
        "\n",
        "transliterate(\"gabriel garcía márquez\")"
      ]
    },
    {
      "cell_type": "markdown",
      "metadata": {},
      "source": [
        "Aquí se aplica la función de transliteración a todo el corpus. Al generar múltiples versiones de un mismo lema (con y sin espacios), el número de filas en nuestro DataFrame aumenta. El paso siguiente es clave: se agrupan los lemas transliterados idénticos y se suman sus frecuencias. De esta forma, las \"colisiones semánticas\" (como \"Papa\" y \"Papá\", que ahora son \"Papa\") se consolidan en una única entrada con una frecuencia combinada, lo que nos da una medida más precisa de la relevancia de un término.\n",
        "\n",
        "Es importante observar y destacar cómo cambió el número de nuestras filas con respecto al corpes orginal y esta nueva versión."
      ]
    },
    {
      "cell_type": "code",
      "execution_count": 44,
      "metadata": {
        "colab": {
          "base_uri": "https://localhost:8080/",
          "height": 424
        },
        "id": "KEp7tLTpvoTU",
        "outputId": "37aed574-ab1c-41dc-ed61-ef534debe6e4"
      },
      "outputs": [
        {
          "data": {
            "text/html": [
              "<div>\n",
              "<style scoped>\n",
              "    .dataframe tbody tr th:only-of-type {\n",
              "        vertical-align: middle;\n",
              "    }\n",
              "\n",
              "    .dataframe tbody tr th {\n",
              "        vertical-align: top;\n",
              "    }\n",
              "\n",
              "    .dataframe thead th {\n",
              "        text-align: right;\n",
              "    }\n",
              "</style>\n",
              "<table border=\"1\" class=\"dataframe\">\n",
              "  <thead>\n",
              "    <tr style=\"text-align: right;\">\n",
              "      <th></th>\n",
              "      <th>transliterated</th>\n",
              "      <th>frequency</th>\n",
              "    </tr>\n",
              "  </thead>\n",
              "  <tbody>\n",
              "    <tr>\n",
              "      <th>0</th>\n",
              "      <td>El</td>\n",
              "      <td>113671.32</td>\n",
              "    </tr>\n",
              "    <tr>\n",
              "      <th>1</th>\n",
              "      <td>De</td>\n",
              "      <td>71104.90</td>\n",
              "    </tr>\n",
              "    <tr>\n",
              "      <th>2</th>\n",
              "      <td>,</td>\n",
              "      <td>63691.48</td>\n",
              "    </tr>\n",
              "    <tr>\n",
              "      <th>3</th>\n",
              "      <td>.</td>\n",
              "      <td>42714.69</td>\n",
              "    </tr>\n",
              "    <tr>\n",
              "      <th>4</th>\n",
              "      <td>Y</td>\n",
              "      <td>28541.04</td>\n",
              "    </tr>\n",
              "    <tr>\n",
              "      <th>...</th>\n",
              "      <td>...</td>\n",
              "      <td>...</td>\n",
              "    </tr>\n",
              "    <tr>\n",
              "      <th>25577</th>\n",
              "      <td>Uf</td>\n",
              "      <td>1.00</td>\n",
              "    </tr>\n",
              "    <tr>\n",
              "      <th>25578</th>\n",
              "      <td>Pirotecnia</td>\n",
              "      <td>1.00</td>\n",
              "    </tr>\n",
              "    <tr>\n",
              "      <th>25579</th>\n",
              "      <td>Victor</td>\n",
              "      <td>1.00</td>\n",
              "    </tr>\n",
              "    <tr>\n",
              "      <th>25580</th>\n",
              "      <td>Jose Mujica</td>\n",
              "      <td>1.00</td>\n",
              "    </tr>\n",
              "    <tr>\n",
              "      <th>25581</th>\n",
              "      <td>JoseMujica</td>\n",
              "      <td>1.00</td>\n",
              "    </tr>\n",
              "  </tbody>\n",
              "</table>\n",
              "<p>25582 rows × 2 columns</p>\n",
              "</div>"
            ],
            "text/plain": [
              "      transliterated  frequency\n",
              "0                 El  113671.32\n",
              "1                 De   71104.90\n",
              "2                  ,   63691.48\n",
              "3                  .   42714.69\n",
              "4                  Y   28541.04\n",
              "...              ...        ...\n",
              "25577             Uf       1.00\n",
              "25578     Pirotecnia       1.00\n",
              "25579         Victor       1.00\n",
              "25580    Jose Mujica       1.00\n",
              "25581     JoseMujica       1.00\n",
              "\n",
              "[25582 rows x 2 columns]"
            ]
          },
          "execution_count": 44,
          "metadata": {},
          "output_type": "execute_result"
        }
      ],
      "source": [
        "transliterated_data = []\n",
        "for row in corpes_df.itertuples(index=False):\n",
        "    transliterations = transliterate(row.element)\n",
        "    for transliteration in transliterations:\n",
        "        if transliteration:\n",
        "            transliterated_data.append([transliteration, row.frequency])\n",
        "corpes_df_tr = pandas.DataFrame(transliterated_data, columns=[\"transliterated\", \"frequency\"])\n",
        "corpes_df_tr"
      ]
    },
    {
      "cell_type": "markdown",
      "metadata": {},
      "source": [
        "Se agrupa para generar las colisiones de los términos y así sumar la frecuencia, para que queden juntos representados en una misma fila; también se organiza de mayor a menor frecuencia para mejor visualización."
      ]
    },
    {
      "cell_type": "code",
      "execution_count": 45,
      "metadata": {
        "colab": {
          "base_uri": "https://localhost:8080/",
          "height": 490
        },
        "id": "YYrhfYImvoTU",
        "outputId": "dad04ada-69ae-42cb-814c-b8cce69ee372"
      },
      "outputs": [
        {
          "data": {
            "text/plain": [
              "transliterated\n",
              "El                116682.89\n",
              "De                 71150.19\n",
              ",                  63691.48\n",
              ".                  42714.69\n",
              "Que                32166.81\n",
              "                    ...    \n",
              "Maricarla              1.00\n",
              "Arrullo                1.00\n",
              "Totem                  1.00\n",
              "Probabilistico         1.00\n",
              "Radicalidad            1.00\n",
              "Name: frequency, Length: 23472, dtype: float64"
            ]
          },
          "execution_count": 45,
          "metadata": {},
          "output_type": "execute_result"
        }
      ],
      "source": [
        "transliterations = corpes_df_tr.groupby(\"transliterated\")[\"frequency\"].sum().sort_values(ascending=False)\n",
        "transliterations"
      ]
    },
    {
      "cell_type": "markdown",
      "metadata": {},
      "source": [
        "## Análisis Estadístico y Filtrado por Longitud"
      ]
    },
    {
      "cell_type": "markdown",
      "metadata": {},
      "source": [
        "Para que nuestro diccionario sea eficiente, debemos enfocarnos en las longitudes de palabra más probables para una contraseña. En esta sección, se realiza un análisis estadístico de la longitud de los lemas transliterados, calculando la media y la desviación estándar y se visualiza esta distribución en un histograma. Usando estos datos, se establece un rango de longitud óptimo (de 1 a 14 caracteres en este caso) para descartar lemas demasiado cortos o largos, que son menos comunes en contraseñas reales."
      ]
    },
    {
      "cell_type": "code",
      "execution_count": null,
      "metadata": {
        "colab": {
          "base_uri": "https://localhost:8080/"
        },
        "id": "jS_6QOPzvoTV",
        "outputId": "a74af150-3455-431e-b274-e90ee738cc0c"
      },
      "outputs": [
        {
          "data": {
            "text/plain": [
              "(8.062840831629176, 2.9366241934698567)"
            ]
          },
          "execution_count": 46,
          "metadata": {},
          "output_type": "execute_result"
        }
      ],
      "source": [
        "transliteration_length = pandas.Series(transliterations.index.str.len())\n",
        "mean_length = transliteration_length.mean() # Media de las longitudes de los lemas transliterados\n",
        "std_length = transliteration_length.std() # Desviación estándar de las longitudes de los lemas transliterados\n",
        "mean_length, std_length"
      ]
    },
    {
      "cell_type": "markdown",
      "metadata": {},
      "source": [
        "Graficamos en un histograma la información de las longitudes y representamos la media, como también la desviación estandar para visualizar la frecuencia de los lemas de acuerdo a su longitud, y permitirnos tomar decisiones más adelante sobre cuáles longitudes tendremos en cuenta y cuales no.\n",
        "\n",
        "Como criterio de decisión se usará la **desviación estandar**."
      ]
    },
    {
      "cell_type": "code",
      "execution_count": 47,
      "metadata": {
        "colab": {
          "base_uri": "https://localhost:8080/",
          "height": 472
        },
        "id": "XmGgRlgNvoTV",
        "outputId": "915c0f4b-866b-4d85-cf5d-06b70a5ce176"
      },
      "outputs": [
        {
          "data": {
            "image/png": "[encoded data removed]",
            "text/plain": [
              "<Figure size 640x480 with 1 Axes>"
            ]
          },
          "metadata": {},
          "output_type": "display_data"
        }
      ],
      "source": [
        "import matplotlib.pyplot\n",
        "\n",
        "histogram = transliteration_length.value_counts().sort_index()\n",
        "matplotlib.pyplot.bar(histogram.index, histogram, label=\"histogram\")\n",
        "matplotlib.pyplot.axvline(x=mean_length-(std_length*2), color=\"red\", linestyle=\"--\", linewidth=0.5)\n",
        "matplotlib.pyplot.axvline(x=mean_length-std_length, color=\"red\", linestyle=\"--\", linewidth=1)\n",
        "matplotlib.pyplot.axvline(x=mean_length, color=\"red\", linestyle=\"-\", label=\"mean\", linewidth=2)\n",
        "matplotlib.pyplot.axvline(x=mean_length+std_length, color=\"red\", linestyle=\"--\", label=\"mean +- std\",linewidth=1)\n",
        "matplotlib.pyplot.axvline(x=mean_length+(std_length*2), color=\"red\", linestyle=\"--\", label=\"mean +- 2std\",linewidth=0.5)\n",
        "matplotlib.pyplot.title(\"Histogram of length frequencies\")\n",
        "matplotlib.pyplot.ylabel(\"Frequency\")\n",
        "matplotlib.pyplot.xlabel(\"Length\")\n",
        "matplotlib.pyplot.legend()\n",
        "matplotlib.pyplot.show()"
      ]
    },
    {
      "cell_type": "markdown",
      "metadata": {},
      "source": [
        "A continuación se necesita definir el rango de longitud mínima y máxima de la palabra que tendremos en cuenta para el desarrollo del ataque semántico. Básicamente es dos veces la distancia de la media con respecto a la mínima longitud de palabra (1), para asi lograr una simetría y descartar los lemas que no nos serán realmente de utilidad.\n",
        "\n",
        "De esta forma, sólo se tendrán en cuenta los lemas con longitud menor o igual al tope máximo de longitud de palabra encontrado **max_length**."
      ]
    },
    {
      "cell_type": "code",
      "execution_count": 48,
      "metadata": {
        "colab": {
          "base_uri": "https://localhost:8080/"
        },
        "id": "QrjtHOvavoTV",
        "outputId": "e16cbda1-6cf7-4284-b5b0-9dcfcce490dd"
      },
      "outputs": [
        {
          "data": {
            "text/plain": [
              "(1, 14)"
            ]
          },
          "execution_count": 48,
          "metadata": {},
          "output_type": "execute_result"
        }
      ],
      "source": [
        "min_length = 1\n",
        "max_length = round((mean_length - min_length) * 2)\n",
        "(min_length, max_length)"
      ]
    },
    {
      "cell_type": "code",
      "execution_count": null,
      "metadata": {
        "colab": {
          "base_uri": "https://localhost:8080/",
          "height": 490
        },
        "id": "5LNhyqQ2voTW",
        "outputId": "ccdba140-57e5-4e3d-e90e-cefe051d09cb"
      },
      "outputs": [
        {
          "data": {
            "text/plain": [
              "transliterated\n",
              "El                116682.89\n",
              "De                 71150.19\n",
              ",                  63691.48\n",
              ".                  42714.69\n",
              "Que                32166.81\n",
              "                    ...    \n",
              "Maricarla              1.00\n",
              "Arrullo                1.00\n",
              "Totem                  1.00\n",
              "Probabilistico         1.00\n",
              "Radicalidad            1.00\n",
              "Name: frequency, Length: 22910, dtype: float64"
            ]
          },
          "execution_count": 49,
          "metadata": {},
          "output_type": "execute_result"
        }
      ],
      "source": [
        "# Filtrar transliteraciones por longitud máxima\n",
        "transliterations = transliterations[transliterations.index.str.len() <= max_length]\n",
        "transliterations"
      ]
    },
    {
      "cell_type": "code",
      "execution_count": null,
      "metadata": {
        "colab": {
          "base_uri": "https://localhost:8080/"
        },
        "id": "_6M0rBbyvoTW",
        "outputId": "9c979846-4045-4783-cecf-1bce722f01cb"
      },
      "outputs": [
        {
          "data": {
            "text/plain": [
              "Index([ 2,  2,  1,  1,  3,  1,  2,  1,  2,  3,\n",
              "       ...\n",
              "        9, 13,  7,  9,  9,  9,  7,  5, 14, 11],\n",
              "      dtype='int64', name='transliterated', length=22910)"
            ]
          },
          "execution_count": 50,
          "metadata": {},
          "output_type": "execute_result"
        }
      ],
      "source": [
        "# Obtener la longitud de cada transliteración (se usará más adelante)\n",
        "transliteration_length = transliterations.index.str.len()\n",
        "transliteration_length"
      ]
    },
    {
      "cell_type": "markdown",
      "metadata": {},
      "source": [
        "Con transliteration_length podemos hacer un conteo del numero de lemas que tenemos por cada una de las longitudes"
      ]
    },
    {
      "cell_type": "code",
      "execution_count": null,
      "metadata": {
        "colab": {
          "base_uri": "https://localhost:8080/",
          "height": 805
        },
        "id": "q7nBZEXKvoTW",
        "outputId": "7454778c-8e3d-45a0-9ea0-1dafb44f3de2"
      },
      "outputs": [
        {
          "data": {
            "text/plain": [
              "transliterated\n",
              "1       61\n",
              "2      295\n",
              "3      698\n",
              "4     1268\n",
              "5     2072\n",
              "6     2805\n",
              "7     3357\n",
              "8     3350\n",
              "9     2876\n",
              "10    2284\n",
              "11    1592\n",
              "12    1120\n",
              "13     702\n",
              "14     430\n",
              "Name: count, dtype: int64"
            ]
          },
          "execution_count": 51,
          "metadata": {},
          "output_type": "execute_result"
        }
      ],
      "source": [
        "transliteration_length_counts = transliteration_length.value_counts().sort_index() # Conteo las longitudes de los lemas transliterados\n",
        "transliteration_length_counts"
      ]
    },
    {
      "cell_type": "markdown",
      "metadata": {},
      "source": [
        "Se normaliza la frecuencia para que sea más manipulable más adelante, es decir, la convertimos a un valor entre 0 a 1."
      ]
    },
    {
      "cell_type": "code",
      "execution_count": null,
      "metadata": {
        "colab": {
          "base_uri": "https://localhost:8080/",
          "height": 805
        },
        "id": "vyg3Mgh2voTW",
        "outputId": "49e201a2-d717-460b-99c6-83e1d41bb187"
      },
      "outputs": [
        {
          "data": {
            "text/plain": [
              "transliterated\n",
              "1     0.002663\n",
              "2     0.012876\n",
              "3     0.030467\n",
              "4     0.055347\n",
              "5     0.090441\n",
              "6     0.122436\n",
              "7     0.146530\n",
              "8     0.146224\n",
              "9     0.125535\n",
              "10    0.099694\n",
              "11    0.069489\n",
              "12    0.048887\n",
              "13    0.030642\n",
              "14    0.018769\n",
              "Name: count, dtype: float64"
            ]
          },
          "execution_count": 52,
          "metadata": {},
          "output_type": "execute_result"
        }
      ],
      "source": [
        "# Normalización de la frecuencia de longitudes\n",
        "length_frequency_distribution = (transliteration_length_counts / transliteration_length_counts.sum()).sort_index()\n",
        "length_frequency_distribution"
      ]
    },
    {
      "cell_type": "markdown",
      "metadata": {},
      "source": [
        "Se realiza una agrupación final de las frecuencias dada la suma de las frecuencias por longitud. Luego, se divide esa suma entre 1,000,000 (un millón) puesto que, dada la documentación anexa del CORPES, la columna de frecuencias significa cuántas veces aparece el lema por cada millón de palabras en español.\n",
        "\n",
        "De hecho, este fue el criterio principal por el que se descartaron las frecuencias que eran menores a 1 más arriba en este notebook."
      ]
    },
    {
      "cell_type": "code",
      "execution_count": 53,
      "metadata": {
        "colab": {
          "base_uri": "https://localhost:8080/",
          "height": 805
        },
        "id": "cJUgMmFSvoTW",
        "outputId": "2e0c5605-2844-4920-d287-f1050d4a3f59"
      },
      "outputs": [
        {
          "data": {
            "text/plain": [
              "transliterated\n",
              "1     0.199854\n",
              "2     0.305189\n",
              "3     0.117763\n",
              "4     0.081409\n",
              "5     0.107444\n",
              "6     0.082127\n",
              "7     0.075918\n",
              "8     0.062121\n",
              "9     0.043489\n",
              "10    0.027906\n",
              "11    0.018098\n",
              "12    0.009176\n",
              "13    0.005779\n",
              "14    0.003559\n",
              "Name: frequency, dtype: float64"
            ]
          },
          "execution_count": 53,
          "metadata": {},
          "output_type": "execute_result"
        }
      ],
      "source": [
        "length_frequencies_sum = transliterations.groupby(transliteration_length).sum().sort_index() / 1000000\n",
        "length_frequencies_sum"
      ]
    },
    {
      "cell_type": "markdown",
      "metadata": {},
      "source": [
        "Finalmente, se busca una representación más fidedigna de lo que queremos entender como longitud, puesto que debe tener en cuenta la cantidad de lemas con esa longitud y su frecuencia, todo junto en un mismo dato. Para ello, se cruzan los dos valores que generamos anteriormente, es decir **length_frequency_distribution** y **length_frequencies_sum**, con el objetivo de crear **weighted_frequency_sum**, el dato que sí va a tener en cuenta la cantidad de lemas junto con su frecuencia respecto a la longitud."
      ]
    },
    {
      "cell_type": "code",
      "execution_count": 54,
      "metadata": {
        "colab": {
          "base_uri": "https://localhost:8080/",
          "height": 472
        },
        "id": "xTbCfxYgvoTX",
        "outputId": "f2f06b06-131c-427f-b4bc-8a16b77daf3b"
      },
      "outputs": [
        {
          "data": {
            "image/png": "[encoded data removed]",
            "text/plain": [
              "<Figure size 640x480 with 1 Axes>"
            ]
          },
          "metadata": {},
          "output_type": "display_data"
        }
      ],
      "source": [
        "weighted_frequency_sum = length_frequency_distribution * length_frequencies_sum\n",
        "matplotlib.pyplot.bar(weighted_frequency_sum.index, weighted_frequency_sum, label=\"histogram\")\n",
        "matplotlib.pyplot.title(\"Histogram of Weighted Length Frequencies\")\n",
        "matplotlib.pyplot.ylabel(\"Weighted Frequency\")\n",
        "matplotlib.pyplot.xlabel(\"Length\")\n",
        "matplotlib.pyplot.show()"
      ]
    },
    {
      "cell_type": "markdown",
      "metadata": {},
      "source": [
        "## Generación de Permutaciones de Longitud Ponderadas"
      ]
    },
    {
      "cell_type": "markdown",
      "metadata": {},
      "source": [
        "Las contraseñas a menudo son una concatenación de varias palabras. Esta sección modela esa realidad. Primero, se calcula una \"frecuencia ponderada\" para cada longitud de palabra, que considera tanto la cantidad de lemas de esa longitud como su frecuencia de uso. Luego, se generan todas las permutaciones posibles de longitudes de palabra (hasta un máximo de 3 niveles) que cumplen con los requisitos de longitud de una clave WPA2 (8-63 caracteres). Cada permutación (e.g., \"palabra de 5 + palabra de 8\") recibe un score, priorizando así las estructuras de contraseña más probables según nuestro análisis semántico."
      ]
    },
    {
      "cell_type": "markdown",
      "metadata": {},
      "source": [
        "Arbitrariamente decimos que formaremos solo contraseñas de 3 niveles, pero esta variable se puede cambiar y simplemente generar contraseñas de más o menos niveles.\n",
        "\n",
        "**Nivel (LEVELS)**: Es la cantidad de lemas que concatenamos consecutivamente.\n",
        "\n",
        "Ejemplo: CoronelAurelianoBuendia -> (se concatenó Coronel + Aureliano + Buendia)"
      ]
    },
    {
      "cell_type": "code",
      "execution_count": 55,
      "metadata": {},
      "outputs": [],
      "source": [
        "LEVELS = 3"
      ]
    },
    {
      "cell_type": "markdown",
      "metadata": {},
      "source": [
        "A continuación, se usa la media que calculada anteriormente (mean_length) y se le aplica la función techo, además, se multiplica por el número de niveles escogidos, esto con el fin de saber la longitud máxima de la contraseña que vamos a generar al permutar los lemas."
      ]
    },
    {
      "cell_type": "code",
      "execution_count": 56,
      "metadata": {
        "colab": {
          "base_uri": "https://localhost:8080/"
        },
        "id": "RuaTL29FvoTX",
        "outputId": "fded016d-767b-4906-d3d9-93d9ebcd36d9"
      },
      "outputs": [
        {
          "data": {
            "text/plain": [
              "27"
            ]
          },
          "execution_count": 56,
          "metadata": {},
          "output_type": "execute_result"
        }
      ],
      "source": [
        "import math\n",
        "\n",
        "max_permutation_sum = math.ceil(mean_length) * LEVELS\n",
        "max_permutation_sum"
      ]
    },
    {
      "cell_type": "markdown",
      "metadata": {},
      "source": [
        "La longitud de una contraseña WPA2 va desde 8 hasta 63 caracteres, sin embargo nuestra cota superior sera la calculada justo en el bloque anterior (**max_permutation_sum**), con ello entonces, se realizan los siguientes pasos:\n",
        "\n",
        "1. Crear todas las permutaciones posibles.\n",
        "2. Verificar que su suma no sea inferior a **8** o no supere **max_permutation_sum**.\n",
        "3. Hallar una frecuencia especial a la que llamaremos la Frecuencia Ponderada de la Permutación."
      ]
    },
    {
      "cell_type": "code",
      "execution_count": null,
      "metadata": {
        "colab": {
          "base_uri": "https://localhost:8080/",
          "height": 458
        },
        "id": "_c27ifL3voTX",
        "outputId": "064a2340-328b-4740-9f2b-5bf71fbdf4cd"
      },
      "outputs": [
        {
          "data": {
            "text/plain": [
              "8          0.009084\n",
              "7 7        0.005562\n",
              "9          0.005459\n",
              "7 6        0.005315\n",
              "6 7        0.005315\n",
              "             ...   \n",
              "1 13 1     0.000075\n",
              "13 1 1     0.000075\n",
              "13 1 13    0.000063\n",
              "1 13 13    0.000063\n",
              "13 13 1    0.000063\n",
              "Length: 1952, dtype: float64"
            ]
          },
          "execution_count": 57,
          "metadata": {},
          "output_type": "execute_result"
        }
      ],
      "source": [
        "import itertools\n",
        "\n",
        "permutations_strs = []\n",
        "permutation_frequencies = []\n",
        "\n",
        "for level in range(1, LEVELS+1):\n",
        "    permutations = itertools.product(range(min_length, max_length), repeat=level)\n",
        "    for permutation in permutations:\n",
        "        permutation_sum = sum(permutation)\n",
        "        if 8 <= permutation_sum <= max_permutation_sum:\n",
        "            # Frecuencia ponderada de la permutación (Frecuecia Especial)\n",
        "            permutation_frequencies.append(sum(weighted_frequency_sum[num]*num/permutation_sum for num in permutation) * 1/len(permutation))\n",
        "            permutations_strs.append(\" \".join(str(num) for num in permutation))\n",
        "weighted_permutations = pandas.Series(permutation_frequencies, index=permutations_strs).sort_values(ascending=False)\n",
        "weighted_permutations"
      ]
    },
    {
      "cell_type": "markdown",
      "metadata": {},
      "source": [
        "## Configuración del Entorno de Búsqueda Semántica"
      ]
    },
    {
      "cell_type": "markdown",
      "metadata": {},
      "source": [
        "Para poder encontrar lemas semánticamente relacionados (e.g., \"Jesús\" y \"Judas\"), utilizamos un modelo de embeddings y una base de datos vectorial. Aquí se configura el entorno de la siguiente manera:\n",
        "\n",
        "1. Se descarga el modelo de embeddings nomic-embed-text a través de Ollama.\n",
        "\n",
        "2. Se inicializa la base de datos vectorial ChromaDB, que almacenará los \"vectores\" (representaciones numéricas) de nuestros lemas.\n",
        "\n",
        "3. Se resetea la colección para asegurar que no haya datos duplicados de ejecuciones anteriores.\n",
        "\n",
        "4. Finalmente, se convierten todos nuestros lemas transliterados a vectores y se guardan en ChromaDB, dejándola lista para realizar búsquedas semánticas."
      ]
    },
    {
      "cell_type": "markdown",
      "metadata": {},
      "source": [
        "### Descarga del Modelo de Embeddings"
      ]
    },
    {
      "cell_type": "markdown",
      "metadata": {},
      "source": [
        "Embedding Model: **Nomic**\n",
        "\n",
        "A partir de estudios y pruebas anteriores respecto a diferentes modelos de incrustación, incluyendo DeepSeek-R1, LLama 3.2, y Phi 3.5, no fue hasta que se usó nomic-embed-text cuando se vieron resultados significativamente mejores. Este fue el criterio por el cual se decidió que se usaría este modelo de incrustació. Ahora, con ayuda de Ollama, instalaremos el modelo de incrustación de Nomic.\n",
        "\n",
        "https://ollama.com/library/nomic-embed-text"
      ]
    },
    {
      "cell_type": "code",
      "execution_count": 58,
      "metadata": {},
      "outputs": [
        {
          "name": "stdout",
          "output_type": "stream",
          "text": [
            "\u001b[?2026h\u001b[?25l\u001b[1Gpulling manifest ⠋ \u001b[K\u001b[?25h\u001b[?2026l\u001b[?2026h\u001b[?25l\u001b[1Gpulling manifest ⠙ \u001b[K\u001b[?25h\u001b[?2026l\u001b[?2026h\u001b[?25l\u001b[1Gpulling manifest ⠹ \u001b[K\u001b[?25h\u001b[?2026l\u001b[?2026h\u001b[?25l\u001b[1Gpulling manifest ⠸ \u001b[K\u001b[?25h\u001b[?2026l\u001b[?2026h\u001b[?25l\u001b[1Gpulling manifest ⠼ \u001b[K\u001b[?25h\u001b[?2026l\u001b[?2026h\u001b[?25l\u001b[1Gpulling manifest ⠴ \u001b[K\u001b[?25h\u001b[?2026l\u001b[?2026h\u001b[?25l\u001b[1Gpulling manifest \u001b[K\n",
            "pulling 970aa74c0a90: 100% ▕██████████████████▏ 274 MB                         \u001b[K\n",
            "pulling c71d239df917: 100% ▕██████████████████▏  11 KB                         \u001b[K\n",
            "pulling ce4a164fc046: 100% ▕██████████████████▏   17 B                         \u001b[K\n",
            "pulling 31df23ea7daa: 100% ▕██████████████████▏  420 B                         \u001b[K\n",
            "verifying sha256 digest \u001b[K\n",
            "writing manifest \u001b[K\n",
            "success \u001b[K\u001b[?25h\u001b[?2026l\n"
          ]
        }
      ],
      "source": [
        "!ollama pull nomic-embed-text"
      ]
    },
    {
      "cell_type": "markdown",
      "metadata": {},
      "source": [
        "Vamos a crear nuestro modelo para poder utilizarlo después en ChromaDB, nuestra base de datos vectorial."
      ]
    },
    {
      "cell_type": "code",
      "execution_count": 59,
      "metadata": {},
      "outputs": [],
      "source": [
        "from langchain_ollama import OllamaEmbeddings\n",
        "\n",
        "nomic_ollama_embeddings = OllamaEmbeddings(model=\"nomic-embed-text\")"
      ]
    },
    {
      "cell_type": "markdown",
      "metadata": {},
      "source": [
        "#### Almacenamiento en la base de datos de vectores\n",
        "\n",
        "ChromaDB es nuestra base de datos vectorial elegida. Con la ayuda de nuestro modelo de incrustación proporcionado por Nomic, almacenaremos todos los fragmentos generados a partir de los textos, para que posteriormente podamos consultarlos y hacerlos parte de nuestro contexto para cada consulta a los LLM.\n",
        "\n",
        "##### Hacer persistente el chroma\n",
        "\n",
        "Aquí tenemos que pensar un paso por delante en el tiempo, así que asumimos que chroma ya es persistente, lo que significa que existe en un directorio. Si no hacemos esto, lo que ocurrirá cada vez que ejecutemos este Notebook, añadiremos cadenas repetidas una y otra vez a la base de datos de vectores. Así que es una buena práctica resetear Chroma y en caso de que no exista, se creará y simplemente permanecerá vacía. [4]"
      ]
    },
    {
      "cell_type": "code",
      "execution_count": null,
      "metadata": {},
      "outputs": [],
      "source": [
        "from langchain_chroma import Chroma\n",
        "\n",
        "def reset_collection(collection_name, persist_directory):\n",
        "    # Se encarga de resetear la colección de Chroma para evitar duplicados\n",
        "    Chroma(\n",
        "        collection_name=collection_name,\n",
        "        embedding_function=nomic_ollama_embeddings,\n",
        "        persist_directory=persist_directory\n",
        "    ).delete_collection()\n",
        "\n",
        "reset_collection(\"corpes_embeddings\", \"chroma\")"
      ]
    },
    {
      "cell_type": "code",
      "execution_count": null,
      "metadata": {},
      "outputs": [
        {
          "data": {
            "text/plain": [
              "<langchain_chroma.vectorstores.Chroma at 0x138b71a70>"
            ]
          },
          "execution_count": 61,
          "metadata": {},
          "output_type": "execute_result"
        }
      ],
      "source": [
        "# Convertir transliteraciones a vectores y guardarlas en ChromaDB\n",
        "Chroma.from_texts(texts=transliterations.index.to_list(), collection_name=\"corpes_embeddings\", embedding=nomic_ollama_embeddings, persist_directory=\"chroma\")"
      ]
    },
    {
      "cell_type": "code",
      "execution_count": null,
      "metadata": {},
      "outputs": [
        {
          "data": {
            "text/plain": [
              "21000"
            ]
          },
          "execution_count": 62,
          "metadata": {},
          "output_type": "execute_result"
        }
      ],
      "source": [
        "# Verificación de la persistencia de ChromaDB\n",
        "vector_store = Chroma(collection_name=\"corpes_embeddings\", embedding_function=nomic_ollama_embeddings, persist_directory=\"chroma\")\n",
        "\n",
        "len(vector_store.get()[\"ids\"])"
      ]
    },
    {
      "cell_type": "markdown",
      "metadata": {},
      "source": [
        "> *Estamos accediendo a los datos persistentes, no a los datos en memoria.*\n"
      ]
    },
    {
      "cell_type": "markdown",
      "metadata": {},
      "source": [
        "#### Utilizar un Vectorstore como Recuperador\n",
        "\n",
        "Un recuperador es una interfaz especializada en recuperar información a partir de una consulta no estructurada. Se tiene en cuenta **search_kwargs={\"k\": 3}**, es decir solo arroja los 3 mejores resultados."
      ]
    },
    {
      "cell_type": "code",
      "execution_count": 79,
      "metadata": {},
      "outputs": [
        {
          "name": "stdout",
          "output_type": "stream",
          "text": [
            "Jesus\n",
            "Christian\n",
            "Judas\n"
          ]
        }
      ],
      "source": [
        "retriever = vector_store.as_retriever(search_kwargs={\"k\": 3})\n",
        "\n",
        "docs = retriever.invoke(\"Jesus\")\n",
        "\n",
        "for doc in docs:\n",
        "    print(doc.page_content)"
      ]
    },
    {
      "cell_type": "markdown",
      "metadata": {},
      "source": [
        "## Simulación de Ataques Semánticos"
      ]
    },
    {
      "cell_type": "markdown",
      "metadata": {},
      "source": [
        "Esta sección final demuestra el poder del enfoque semántico en un escenario práctico. Se simulan diferentes ataques a una contraseña hipotética para probar nuestro proyecto, cada uno de estos será un caso de uso.\n",
        "\n",
        "Por ejemplo, dada la contraseña hipotética (_CoronelAureliano1967_) donde el atacante tiene una pista (_\"García Márquez\"_).\n",
        "\n",
        "1. **Búsqueda Semántica**: Usando las palabras \"semilla\" (_Coronel_, _Aureliano_), se buscan en ChromaDB otros términos semánticamente similares (e.g., _Militar_, _General_, _Marquez_).\n",
        "\n",
        "2. **Creación de Diccionario Dirigido**: Se filtra el corpus para crear un diccionario más pequeño y potente, conteniendo solo palabras con una frecuencia igual o superior a la de las semillas.\n",
        "\n",
        "3. **Estimación de Complejidad**: Se calcula el número de combinaciones que se necesitarían probar con este diccionario semántico para encontrar la contraseña.\n",
        "\n",
        "4. **Comparativa**: Se compara el tiempo estimado del ataque semántico con el de un ataque de fuerza bruta tradicional, demostrando la drástica reducción de recursos y tiempo que ofrece nuestro método."
      ]
    },
    {
      "cell_type": "markdown",
      "metadata": {},
      "source": [
        "### Casos de Uso"
      ]
    },
    {
      "cell_type": "code",
      "execution_count": null,
      "metadata": {},
      "outputs": [],
      "source": [
        "simulation = {\n",
        "    \"case_1\": {\n",
        "        \"seeds\": [\"Jesus\", \"Jose\"],\n",
        "        \"password\": \"JesusMariaJose\",\n",
        "        \"target\": (5, 5, 4)\n",
        "    },\n",
        "    \"case_2\": {\n",
        "        \"seeds\": [\"Coronel\", \"Aureliano\"],\n",
        "        \"password\": \"CoronelAureliano1967\",\n",
        "        \"target\": (5, 5, 4)\n",
        "    },\n",
        "    \"case_3\": {\n",
        "        \"seeds\": [\"Planeta\", \"Verde\"],\n",
        "        \"password\": \"AmbienteSostenible2023\",\n",
        "        \"target\": (5, 5, 4)\n",
        "    }\n",
        "}"
      ]
    },
    {
      "cell_type": "code",
      "execution_count": null,
      "metadata": {},
      "outputs": [],
      "source": [
        "import functools\n",
        "\n",
        "def corpes_embeddings(seeds):\n",
        "    # Se encarga de buscar en la base de datos vectorial ChromaDB los documentos que contienen las semillas proporcionadas\n",
        "    all_results = set()\n",
        "    for word in seeds:\n",
        "        all_results.update([doc.page_content for doc in retriever.invoke(word)])\n",
        "    return list(all_results)\n",
        "\n",
        "def estimate(depth_transliterations, scope_weighted_permutations, TARGET = (5, 5, 4)):\n",
        "    # Calcula la suma de las frecuencias ponderadas de las transliteraciones para las permutaciones de profundidad\n",
        "    depth_transliterations = {length: len(transliteration_list) for length, transliteration_list in depth_transliterations.items()}\n",
        "    permutation_sum = 0\n",
        "    for permutation in scope_weighted_permutations:\n",
        "        if permutation != TARGET:\n",
        "            if all(num in depth_transliterations for num in permutation):\n",
        "                permutation_sum += functools.reduce(lambda x, y: x * y, [depth_transliterations[num] for num in permutation])\n",
        "        else:\n",
        "            break\n",
        "    return permutation_sum"
      ]
    },
    {
      "cell_type": "code",
      "execution_count": null,
      "metadata": {},
      "outputs": [],
      "source": [
        "for key, value in simulation.items():\n",
        "    print(f\"Simulación {key}:\")\n",
        "    print(f\"Semillas: {value['seeds']}\")\n",
        "    print(f\"Contraseña: {value['password']}\")\n",
        "    print(f\"Target: {value['target']}\")\n",
        "    \n",
        "    SEEDS = value['seeds']\n",
        "    PASSWORD = value['password']\n",
        "    TARGET = value['target']\n",
        "    \n",
        "    # Paso 1: Obtener las semillas del CORPES\n",
        "    corpes_seeds = corpes_embeddings(seeds=SEEDS)\n",
        "\n",
        "    print(\"corpes_seeds:\", corpes_seeds)\n",
        "\n",
        "\n",
        "    # Paso 2: Obtener las transliteraciones de las semillas\n",
        "    depth_lower_bound = transliterations[corpes_seeds[0]]\n",
        "\n",
        "\n",
        "    # Paso 3: Obtener el límite inferior de profundidad\n",
        "    for corpes_seed in corpes_seeds:\n",
        "        new_lower_bound = transliterations[corpes_seed]\n",
        "        if new_lower_bound < depth_lower_bound:\n",
        "            depth_lower_bound = new_lower_bound\n",
        "\n",
        "    print(\"depth_lower_bound:\", depth_lower_bound)\n",
        "\n",
        "\n",
        "    # Paso 4: Filtrar transliteraciones por profundidad\n",
        "    depth_transliterations = transliterations[transliterations >= depth_lower_bound].index\n",
        "\n",
        "    print(\"depth_transliterations:\", depth_transliterations)\n",
        "\n",
        "\n",
        "    # Paso 5: Agrupar transliteraciones por longitud\n",
        "    depth_transliterations = depth_transliterations.to_series().groupby(depth_transliterations.str.len()).apply(list).to_dict()\n",
        "\n",
        "\n",
        "    # Paso 6: Guardar longitudes de las semillas del CORPES\n",
        "    lengths_corpes_seeds = {str(len(corpes_seed)) for corpes_seed in corpes_seeds}\n",
        "\n",
        "    print(\"lengths_corpes_seeds:\", lengths_corpes_seeds)\n",
        "\n",
        "\n",
        "    # Paso 7: Filtrar las permutaciones ponderadas por las longitudes de las semillas del CORPES\n",
        "    scope_weighted_permutations = weighted_permutations.index[\n",
        "        weighted_permutations.index.map(\n",
        "            lambda label: any(token in lengths_corpes_seeds for token in label.split())\n",
        "        )\n",
        "    ]\n",
        "\n",
        "    print(\"scope_weighted_permutations:\", scope_weighted_permutations)\n",
        "\n",
        "\n",
        "    # Paso 8: Convertir las permutaciones a tuplas de enteros\n",
        "    scope_weighted_permutations = [tuple(map(int, permutation.split())) for permutation in scope_weighted_permutations]\n",
        "\n",
        "\n",
        "    # Paso 9: Calcular la estimación del objetivo\n",
        "    target_estimate = estimate(depth_transliterations, scope_weighted_permutations, TARGET)\n",
        "\n",
        "    print(\"target_estimate:\", target_estimate)\n",
        "\n",
        "\n",
        "    # Paso 10: Estimación de fuerza bruta\n",
        "    brute_force_estimate = 95 ** sum(TARGET)\n",
        "    print(\"brute_force_estimate:\", brute_force_estimate)\n",
        "\n",
        "\n",
        "    # Paso 11: Estimación de la capacidad de hash mensual\n",
        "    estimated_hash_capacity_month = 50000 * 60 * 60 * 24 * 30\n",
        "    print(\"estimated_hash_capacity_month:\", estimated_hash_capacity_month)\n",
        "\n",
        "\n",
        "    # Resultados\n",
        "    print(f\"semanticdictgen-wpa2-es: {target_estimate / estimated_hash_capacity_month:.2f} meses\")\n",
        "    print(f\"Fuerza bruta: {brute_force_estimate / estimated_hash_capacity_month:.2f} meses\")\n",
        "    print(f\"La fuerza bruta requiere {brute_force_estimate / estimated_hash_capacity_month} más recursos que nuestro enfoque de uso de diccionario semántico.\")"
      ]
    }
  ],
  "metadata": {
    "colab": {
      "provenance": []
    },
    "kernelspec": {
      "display_name": "Python 3",
      "language": "python",
      "name": "python3"
    },
    "language_info": {
      "codemirror_mode": {
        "name": "ipython",
        "version": 3
      },
      "file_extension": ".py",
      "mimetype": "text/x-python",
      "name": "python",
      "nbconvert_exporter": "python",
      "pygments_lexer": "ipython3",
      "version": "3.13.1"
    },
    "orig_nbformat": 4
  },
  "nbformat": 4,
  "nbformat_minor": 0
}
